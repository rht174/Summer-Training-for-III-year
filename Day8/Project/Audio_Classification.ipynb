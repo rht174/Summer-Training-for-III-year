{
 "cells": [
  {
   "cell_type": "markdown",
   "metadata": {
    "colab_type": "text",
    "id": "view-in-github"
   },
   "source": [
    "<!-- <a href=\"https://colab.research.google.com/github/vkate1/Summer-Training-for-III-year/blob/main/Day8/Project/Audio_Classification.ipynb\" target=\"_parent\"><img src=\"https://colab.research.google.com/assets/colab-badge.svg\" alt=\"Open In Colab\"/></a> -->"
   ]
  },
  {
   "cell_type": "code",
   "execution_count": 1,
   "metadata": {
    "colab": {
     "base_uri": "https://localhost:8080/"
    },
    "execution": {
     "iopub.execute_input": "2022-06-24T12:24:19.199903Z",
     "iopub.status.busy": "2022-06-24T12:24:19.199037Z",
     "iopub.status.idle": "2022-06-24T12:24:30.226421Z",
     "shell.execute_reply": "2022-06-24T12:24:30.225435Z",
     "shell.execute_reply.started": "2022-06-24T12:24:19.199852Z"
    },
    "id": "nuQKo5ms4z_r",
    "outputId": "525f936b-ce8b-45d2-dabb-dc1bff0f76a2"
   },
   "outputs": [
    {
     "name": "stdout",
     "output_type": "stream",
     "text": [
      "Looking in indexes: https://pypi.org/simple, https://us-python.pkg.dev/colab-wheels/public/simple/\n",
      "Requirement already satisfied: librosa in /usr/local/lib/python3.7/dist-packages (0.8.1)\n",
      "Requirement already satisfied: joblib>=0.14 in /usr/local/lib/python3.7/dist-packages (from librosa) (1.1.0)\n",
      "Requirement already satisfied: audioread>=2.0.0 in /usr/local/lib/python3.7/dist-packages (from librosa) (2.1.9)\n",
      "Requirement already satisfied: soundfile>=0.10.2 in /usr/local/lib/python3.7/dist-packages (from librosa) (0.10.3.post1)\n",
      "Requirement already satisfied: decorator>=3.0.0 in /usr/local/lib/python3.7/dist-packages (from librosa) (4.4.2)\n",
      "Requirement already satisfied: numba>=0.43.0 in /usr/local/lib/python3.7/dist-packages (from librosa) (0.51.2)\n",
      "Requirement already satisfied: scipy>=1.0.0 in /usr/local/lib/python3.7/dist-packages (from librosa) (1.4.1)\n",
      "Requirement already satisfied: scikit-learn!=0.19.0,>=0.14.0 in /usr/local/lib/python3.7/dist-packages (from librosa) (1.0.2)\n",
      "Requirement already satisfied: numpy>=1.15.0 in /usr/local/lib/python3.7/dist-packages (from librosa) (1.21.6)\n",
      "Requirement already satisfied: resampy>=0.2.2 in /usr/local/lib/python3.7/dist-packages (from librosa) (0.2.2)\n",
      "Requirement already satisfied: packaging>=20.0 in /usr/local/lib/python3.7/dist-packages (from librosa) (21.3)\n",
      "Requirement already satisfied: pooch>=1.0 in /usr/local/lib/python3.7/dist-packages (from librosa) (1.6.0)\n",
      "Requirement already satisfied: setuptools in /usr/local/lib/python3.7/dist-packages (from numba>=0.43.0->librosa) (57.4.0)\n",
      "Requirement already satisfied: llvmlite<0.35,>=0.34.0.dev0 in /usr/local/lib/python3.7/dist-packages (from numba>=0.43.0->librosa) (0.34.0)\n",
      "Requirement already satisfied: pyparsing!=3.0.5,>=2.0.2 in /usr/local/lib/python3.7/dist-packages (from packaging>=20.0->librosa) (3.0.9)\n",
      "Requirement already satisfied: appdirs>=1.3.0 in /usr/local/lib/python3.7/dist-packages (from pooch>=1.0->librosa) (1.4.4)\n",
      "Requirement already satisfied: requests>=2.19.0 in /usr/local/lib/python3.7/dist-packages (from pooch>=1.0->librosa) (2.23.0)\n",
      "Requirement already satisfied: certifi>=2017.4.17 in /usr/local/lib/python3.7/dist-packages (from requests>=2.19.0->pooch>=1.0->librosa) (2022.6.15)\n",
      "Requirement already satisfied: idna<3,>=2.5 in /usr/local/lib/python3.7/dist-packages (from requests>=2.19.0->pooch>=1.0->librosa) (2.10)\n",
      "Requirement already satisfied: chardet<4,>=3.0.2 in /usr/local/lib/python3.7/dist-packages (from requests>=2.19.0->pooch>=1.0->librosa) (3.0.4)\n",
      "Requirement already satisfied: urllib3!=1.25.0,!=1.25.1,<1.26,>=1.21.1 in /usr/local/lib/python3.7/dist-packages (from requests>=2.19.0->pooch>=1.0->librosa) (1.24.3)\n",
      "Requirement already satisfied: six>=1.3 in /usr/local/lib/python3.7/dist-packages (from resampy>=0.2.2->librosa) (1.15.0)\n",
      "Requirement already satisfied: threadpoolctl>=2.0.0 in /usr/local/lib/python3.7/dist-packages (from scikit-learn!=0.19.0,>=0.14.0->librosa) (3.1.0)\n",
      "Requirement already satisfied: cffi>=1.0 in /usr/local/lib/python3.7/dist-packages (from soundfile>=0.10.2->librosa) (1.15.0)\n",
      "Requirement already satisfied: pycparser in /usr/local/lib/python3.7/dist-packages (from cffi>=1.0->soundfile>=0.10.2->librosa) (2.21)\n"
     ]
    }
   ],
   "source": [
    "# !pip install librosa"
   ]
  },
  {
   "cell_type": "code",
   "execution_count": null,
   "metadata": {
    "execution": {
     "iopub.execute_input": "2022-06-24T14:01:37.195444Z",
     "iopub.status.busy": "2022-06-24T14:01:37.194974Z",
     "iopub.status.idle": "2022-06-24T14:01:37.203045Z",
     "shell.execute_reply": "2022-06-24T14:01:37.201991Z",
     "shell.execute_reply.started": "2022-06-24T14:01:37.195409Z"
    },
    "id": "cCjNfwU_4z_v"
   },
   "outputs": [],
   "source": [
    "import matplotlib.pyplot as plt\n",
    "%matplotlib inline"
   ]
  },
  {
   "cell_type": "code",
   "execution_count": null,
   "metadata": {
    "execution": {
     "iopub.execute_input": "2022-06-24T14:01:39.837956Z",
     "iopub.status.busy": "2022-06-24T14:01:39.837278Z",
     "iopub.status.idle": "2022-06-24T14:01:39.842845Z",
     "shell.execute_reply": "2022-06-24T14:01:39.841762Z",
     "shell.execute_reply.started": "2022-06-24T14:01:39.837919Z"
    },
    "id": "tkiq5i8R4z_w"
   },
   "outputs": [],
   "source": [
    "filename='../input/urbansound8k/fold3/102105-3-0-0.wav'"
   ]
  },
  {
   "cell_type": "code",
   "execution_count": null,
   "metadata": {
    "execution": {
     "iopub.execute_input": "2022-06-24T14:01:41.824665Z",
     "iopub.status.busy": "2022-06-24T14:01:41.823985Z",
     "iopub.status.idle": "2022-06-24T14:01:41.830397Z",
     "shell.execute_reply": "2022-06-24T14:01:41.829073Z",
     "shell.execute_reply.started": "2022-06-24T14:01:41.824628Z"
    },
    "id": "PGbgJKdK4z_w"
   },
   "outputs": [],
   "source": [
    "import IPython.display as ipd\n",
    "import librosa\n",
    "import librosa.display"
   ]
  },
  {
   "cell_type": "code",
   "execution_count": null,
   "metadata": {
    "execution": {
     "iopub.execute_input": "2022-06-24T14:04:14.344687Z",
     "iopub.status.busy": "2022-06-24T14:04:14.344265Z",
     "iopub.status.idle": "2022-06-24T14:04:14.562743Z",
     "shell.execute_reply": "2022-06-24T14:04:14.560968Z",
     "shell.execute_reply.started": "2022-06-24T14:04:14.344653Z"
    },
    "id": "LxXOjTRK4z_x"
   },
   "outputs": [],
   "source": [
    "## Dog Sound\n",
    "plt.figure(figsize=(14,5))\n",
    "import librosa\n",
    "audio_file_path='../input/urbansound8k/fold7/101848-9-0-0.wav'\n",
    "librosa_audio_data,librosa_sample_rate=librosa.load(audio_file_path)"
   ]
  },
  {
   "cell_type": "code",
   "execution_count": null,
   "metadata": {
    "execution": {
     "iopub.execute_input": "2022-06-24T13:30:50.117445Z",
     "iopub.status.busy": "2022-06-24T13:30:50.116988Z",
     "iopub.status.idle": "2022-06-24T13:30:50.831942Z",
     "shell.execute_reply": "2022-06-24T13:30:50.830191Z",
     "shell.execute_reply.started": "2022-06-24T13:30:50.117411Z"
    },
    "id": "5MwSr19D4z_x"
   },
   "outputs": [],
   "source": [
    "### Sound\n",
    "filename='../input/urbansound8k/fold7/101848-9-0-1.wav'\n",
    "plt.figure(figsize=(14,5))\n",
    "data,sample_rate=librosa.load(filename)\n",
    "librosa.display.waveshow(data,sr=sample_rate)\n",
    "ipd.Audio(filename)"
   ]
  },
  {
   "cell_type": "code",
   "execution_count": null,
   "metadata": {
    "execution": {
     "iopub.execute_input": "2022-06-24T12:28:38.969810Z",
     "iopub.status.busy": "2022-06-24T12:28:38.969299Z",
     "iopub.status.idle": "2022-06-24T12:28:38.979130Z",
     "shell.execute_reply": "2022-06-24T12:28:38.977546Z",
     "shell.execute_reply.started": "2022-06-24T12:28:38.969770Z"
    },
    "id": "s2UximNG4z_y"
   },
   "outputs": [],
   "source": [
    "sample_rate"
   ]
  },
  {
   "cell_type": "code",
   "execution_count": null,
   "metadata": {
    "execution": {
     "iopub.execute_input": "2022-06-24T12:28:59.909306Z",
     "iopub.status.busy": "2022-06-24T12:28:59.908845Z",
     "iopub.status.idle": "2022-06-24T12:28:59.980494Z",
     "shell.execute_reply": "2022-06-24T12:28:59.979140Z",
     "shell.execute_reply.started": "2022-06-24T12:28:59.909275Z"
    },
    "id": "GPeuhHAN4z_z"
   },
   "outputs": [],
   "source": [
    "from scipy.io import wavfile as wav\n",
    "wave_sample_rate, wave_audio=wav.read(filename)"
   ]
  },
  {
   "cell_type": "code",
   "execution_count": null,
   "metadata": {
    "execution": {
     "iopub.execute_input": "2022-06-24T12:29:14.188202Z",
     "iopub.status.busy": "2022-06-24T12:29:14.187689Z",
     "iopub.status.idle": "2022-06-24T12:29:14.197085Z",
     "shell.execute_reply": "2022-06-24T12:29:14.195701Z",
     "shell.execute_reply.started": "2022-06-24T12:29:14.188165Z"
    },
    "id": "-bquME6L4z_0"
   },
   "outputs": [],
   "source": [
    "wave_sample_rate"
   ]
  },
  {
   "cell_type": "code",
   "execution_count": null,
   "metadata": {
    "execution": {
     "iopub.execute_input": "2022-06-24T12:29:29.452485Z",
     "iopub.status.busy": "2022-06-24T12:29:29.452088Z",
     "iopub.status.idle": "2022-06-24T12:29:29.462669Z",
     "shell.execute_reply": "2022-06-24T12:29:29.461150Z",
     "shell.execute_reply.started": "2022-06-24T12:29:29.452455Z"
    },
    "id": "RRe1hTqa4z_0"
   },
   "outputs": [],
   "source": [
    "wave_audio"
   ]
  },
  {
   "cell_type": "code",
   "execution_count": null,
   "metadata": {
    "execution": {
     "iopub.execute_input": "2022-06-24T13:30:14.904873Z",
     "iopub.status.busy": "2022-06-24T13:30:14.904378Z",
     "iopub.status.idle": "2022-06-24T13:30:15.226237Z",
     "shell.execute_reply": "2022-06-24T13:30:15.225307Z",
     "shell.execute_reply.started": "2022-06-24T13:30:14.904836Z"
    },
    "id": "Nm6ChmMD4z_1"
   },
   "outputs": [],
   "source": [
    "import matplotlib.pyplot as plt\n",
    "\n",
    "# Original audio with 2 channels \n",
    "plt.figure(figsize=(12, 4))\n",
    "plt.plot(wave_audio)"
   ]
  },
  {
   "cell_type": "code",
   "execution_count": null,
   "metadata": {
    "execution": {
     "iopub.execute_input": "2022-06-24T12:29:50.352845Z",
     "iopub.status.busy": "2022-06-24T12:29:50.352392Z",
     "iopub.status.idle": "2022-06-24T12:29:50.361568Z",
     "shell.execute_reply": "2022-06-24T12:29:50.360409Z",
     "shell.execute_reply.started": "2022-06-24T12:29:50.352811Z"
    },
    "id": "SgeuWwGA4z_1"
   },
   "outputs": [],
   "source": [
    "data"
   ]
  },
  {
   "cell_type": "code",
   "execution_count": null,
   "metadata": {
    "execution": {
     "iopub.execute_input": "2022-06-24T12:36:32.901890Z",
     "iopub.status.busy": "2022-06-24T12:36:32.900488Z",
     "iopub.status.idle": "2022-06-24T12:36:32.971373Z",
     "shell.execute_reply": "2022-06-24T12:36:32.969920Z",
     "shell.execute_reply.started": "2022-06-24T12:36:32.901834Z"
    },
    "id": "CPtTVxFp4z_1"
   },
   "outputs": [],
   "source": [
    "import pandas as pd\n",
    "\n",
    "metadata=pd.read_csv('../input/urbansound8k/UrbanSound8K.csv')\n",
    "metadata.head(10)"
   ]
  },
  {
   "cell_type": "code",
   "execution_count": null,
   "metadata": {
    "execution": {
     "iopub.execute_input": "2022-06-24T12:48:48.890694Z",
     "iopub.status.busy": "2022-06-24T12:48:48.889631Z",
     "iopub.status.idle": "2022-06-24T12:48:48.910519Z",
     "shell.execute_reply": "2022-06-24T12:48:48.909209Z",
     "shell.execute_reply.started": "2022-06-24T12:48:48.890637Z"
    },
    "id": "ClBYGUaK4z_2"
   },
   "outputs": [],
   "source": [
    "### Check whether the dataset is imbalanced\n",
    "metadata['class'].value_counts()"
   ]
  },
  {
   "cell_type": "code",
   "execution_count": null,
   "metadata": {
    "execution": {
     "iopub.execute_input": "2022-06-24T14:04:26.476746Z",
     "iopub.status.busy": "2022-06-24T14:04:26.476299Z",
     "iopub.status.idle": "2022-06-24T14:04:26.510800Z",
     "shell.execute_reply": "2022-06-24T14:04:26.509038Z",
     "shell.execute_reply.started": "2022-06-24T14:04:26.476685Z"
    },
    "id": "YI4t0rGP4z_2"
   },
   "outputs": [],
   "source": [
    "mfccs = librosa.feature.mfcc(y=librosa_audio_data, sr=librosa_sample_rate, n_mfcc=40)\n",
    "print(mfccs.shape)"
   ]
  },
  {
   "cell_type": "code",
   "execution_count": null,
   "metadata": {
    "execution": {
     "iopub.execute_input": "2022-06-24T14:12:09.228571Z",
     "iopub.status.busy": "2022-06-24T14:12:09.228137Z",
     "iopub.status.idle": "2022-06-24T14:12:09.267492Z",
     "shell.execute_reply": "2022-06-24T14:12:09.266077Z",
     "shell.execute_reply.started": "2022-06-24T14:12:09.228537Z"
    },
    "id": "9tgTv7c14z_2"
   },
   "outputs": [],
   "source": [
    "#### Extracting MFCC's For every audio file\n",
    "import pandas as pd\n",
    "import os\n",
    "import librosa\n",
    "\n",
    "audio_dataset_path='../input/urbansound8k/'\n",
    "metadata=pd.read_csv('../input/urbansound8k/UrbanSound8K.csv')\n",
    "metadata.head()"
   ]
  },
  {
   "cell_type": "code",
   "execution_count": null,
   "metadata": {
    "execution": {
     "iopub.execute_input": "2022-06-24T14:09:37.874479Z",
     "iopub.status.busy": "2022-06-24T14:09:37.872910Z",
     "iopub.status.idle": "2022-06-24T14:09:37.882389Z",
     "shell.execute_reply": "2022-06-24T14:09:37.880776Z",
     "shell.execute_reply.started": "2022-06-24T14:09:37.874421Z"
    },
    "id": "qEamaJZH4z_3"
   },
   "outputs": [],
   "source": [
    "def features_extractor(file):\n",
    "    audio, sample_rate = librosa.load(file_name, res_type='kaiser_fast') \n",
    "    mfccs_features = librosa.feature.mfcc(y=audio, sr=sample_rate, n_mfcc=40)\n",
    "    mfccs_scaled_features = np.mean(mfccs_features.T,axis=0)\n",
    "    \n",
    "    return mfccs_scaled_features\n",
    "    "
   ]
  },
  {
   "cell_type": "code",
   "execution_count": null,
   "metadata": {
    "execution": {
     "iopub.execute_input": "2022-06-24T14:12:16.782639Z",
     "iopub.status.busy": "2022-06-24T14:12:16.782243Z",
     "iopub.status.idle": "2022-06-24T14:29:57.367489Z",
     "shell.execute_reply": "2022-06-24T14:29:57.364633Z",
     "shell.execute_reply.started": "2022-06-24T14:12:16.782609Z"
    },
    "id": "W_dy7UUk4z_3"
   },
   "outputs": [],
   "source": [
    "import numpy as np\n",
    "from tqdm import tqdm\n",
    "### Now we iterate through every audio file and extract features \n",
    "### using Mel-Frequency Cepstral Coefficients\n",
    "extracted_features=[]\n",
    "for index_num,row in tqdm(metadata.iterrows()):\n",
    "    file_name = os.path.join(os.path.abspath(audio_dataset_path),'fold'+str(row[\"fold\"])+'/',str(row[\"slice_file_name\"]))\n",
    "    final_class_labels=row[\"class\"]\n",
    "    data=features_extractor(file_name)\n",
    "    extracted_features.append([data,final_class_labels])"
   ]
  },
  {
   "cell_type": "code",
   "execution_count": null,
   "metadata": {
    "execution": {
     "iopub.execute_input": "2022-06-24T14:41:14.273051Z",
     "iopub.status.busy": "2022-06-24T14:41:14.272270Z",
     "iopub.status.idle": "2022-06-24T14:41:14.305937Z",
     "shell.execute_reply": "2022-06-24T14:41:14.304579Z",
     "shell.execute_reply.started": "2022-06-24T14:41:14.272988Z"
    },
    "id": "psn7QYRp4z_4"
   },
   "outputs": [],
   "source": [
    "### converting extracted_features to Pandas dataframe\n",
    "extracted_features_df=pd.DataFrame(extracted_features,columns=['feature','class'])\n",
    "extracted_features_df.head()"
   ]
  },
  {
   "cell_type": "code",
   "execution_count": null,
   "metadata": {
    "execution": {
     "iopub.execute_input": "2022-06-24T14:41:33.106148Z",
     "iopub.status.busy": "2022-06-24T14:41:33.105518Z",
     "iopub.status.idle": "2022-06-24T14:41:33.126646Z",
     "shell.execute_reply": "2022-06-24T14:41:33.124861Z",
     "shell.execute_reply.started": "2022-06-24T14:41:33.106103Z"
    },
    "id": "FYHLMw_W4z_4"
   },
   "outputs": [],
   "source": [
    "### Split the dataset into independent and dependent dataset\n",
    "X=np.array(extracted_features_df['feature'].tolist())\n",
    "y=np.array(extracted_features_df['class'].tolist())"
   ]
  },
  {
   "cell_type": "code",
   "execution_count": null,
   "metadata": {
    "execution": {
     "iopub.execute_input": "2022-06-24T14:41:54.410859Z",
     "iopub.status.busy": "2022-06-24T14:41:54.410360Z",
     "iopub.status.idle": "2022-06-24T14:41:54.420233Z",
     "shell.execute_reply": "2022-06-24T14:41:54.418777Z",
     "shell.execute_reply.started": "2022-06-24T14:41:54.410821Z"
    },
    "id": "AZfKjSpT4z_4"
   },
   "outputs": [],
   "source": [
    "X.shape"
   ]
  },
  {
   "cell_type": "code",
   "execution_count": null,
   "metadata": {
    "execution": {
     "iopub.execute_input": "2022-06-24T14:42:50.475555Z",
     "iopub.status.busy": "2022-06-24T14:42:50.475124Z",
     "iopub.status.idle": "2022-06-24T14:43:02.076005Z",
     "shell.execute_reply": "2022-06-24T14:43:02.074934Z",
     "shell.execute_reply.started": "2022-06-24T14:42:50.475515Z"
    },
    "id": "DydeoKf74z_4"
   },
   "outputs": [],
   "source": [
    "### Label Encoding\n",
    "###y=np.array(pd.get_dummies(y))\n",
    "### Label Encoder\n",
    "from tensorflow.keras.utils import to_categorical\n",
    "from sklearn.preprocessing import LabelEncoder\n",
    "labelencoder=LabelEncoder()\n",
    "y=to_categorical(labelencoder.fit_transform(y))"
   ]
  },
  {
   "cell_type": "code",
   "execution_count": null,
   "metadata": {
    "execution": {
     "iopub.execute_input": "2022-06-24T14:43:02.087616Z",
     "iopub.status.busy": "2022-06-24T14:43:02.087318Z",
     "iopub.status.idle": "2022-06-24T14:43:02.118565Z",
     "shell.execute_reply": "2022-06-24T14:43:02.117458Z",
     "shell.execute_reply.started": "2022-06-24T14:43:02.087589Z"
    },
    "id": "YN6h2ffk4z_5"
   },
   "outputs": [],
   "source": [
    "y"
   ]
  },
  {
   "cell_type": "code",
   "execution_count": null,
   "metadata": {
    "execution": {
     "iopub.execute_input": "2022-06-24T14:43:22.082829Z",
     "iopub.status.busy": "2022-06-24T14:43:22.082418Z",
     "iopub.status.idle": "2022-06-24T14:43:22.094418Z",
     "shell.execute_reply": "2022-06-24T14:43:22.093057Z",
     "shell.execute_reply.started": "2022-06-24T14:43:22.082799Z"
    },
    "id": "VnJu5Gn54z_5"
   },
   "outputs": [],
   "source": [
    "### Train Test Split\n",
    "from sklearn.model_selection import train_test_split\n",
    "X_train,X_test,y_train,y_test=train_test_split(X,y,test_size=0.2,random_state=0)"
   ]
  },
  {
   "cell_type": "code",
   "execution_count": null,
   "metadata": {
    "execution": {
     "iopub.execute_input": "2022-06-24T14:43:37.507042Z",
     "iopub.status.busy": "2022-06-24T14:43:37.506618Z",
     "iopub.status.idle": "2022-06-24T14:43:37.517510Z",
     "shell.execute_reply": "2022-06-24T14:43:37.515958Z",
     "shell.execute_reply.started": "2022-06-24T14:43:37.507009Z"
    },
    "id": "PLjEg7074z_5"
   },
   "outputs": [],
   "source": [
    "X_train"
   ]
  },
  {
   "cell_type": "code",
   "execution_count": null,
   "metadata": {
    "execution": {
     "iopub.execute_input": "2022-06-24T14:43:57.540414Z",
     "iopub.status.busy": "2022-06-24T14:43:57.539867Z",
     "iopub.status.idle": "2022-06-24T14:43:57.552507Z",
     "shell.execute_reply": "2022-06-24T14:43:57.550747Z",
     "shell.execute_reply.started": "2022-06-24T14:43:57.540378Z"
    },
    "id": "cEOeIHax4z_5"
   },
   "outputs": [],
   "source": [
    "y"
   ]
  },
  {
   "cell_type": "code",
   "execution_count": null,
   "metadata": {
    "execution": {
     "iopub.execute_input": "2022-06-24T14:44:14.025608Z",
     "iopub.status.busy": "2022-06-24T14:44:14.025205Z",
     "iopub.status.idle": "2022-06-24T14:44:14.032900Z",
     "shell.execute_reply": "2022-06-24T14:44:14.031674Z",
     "shell.execute_reply.started": "2022-06-24T14:44:14.025577Z"
    },
    "id": "zIPMZmXZ4z_5"
   },
   "outputs": [],
   "source": [
    "X_train.shape"
   ]
  },
  {
   "cell_type": "code",
   "execution_count": null,
   "metadata": {
    "execution": {
     "iopub.execute_input": "2022-06-24T14:44:35.114904Z",
     "iopub.status.busy": "2022-06-24T14:44:35.114176Z",
     "iopub.status.idle": "2022-06-24T14:44:35.123781Z",
     "shell.execute_reply": "2022-06-24T14:44:35.122492Z",
     "shell.execute_reply.started": "2022-06-24T14:44:35.114857Z"
    },
    "id": "4aqa7naS4z_6"
   },
   "outputs": [],
   "source": [
    "X_test.shape"
   ]
  },
  {
   "cell_type": "code",
   "execution_count": null,
   "metadata": {
    "execution": {
     "iopub.execute_input": "2022-06-24T14:44:50.587229Z",
     "iopub.status.busy": "2022-06-24T14:44:50.586814Z",
     "iopub.status.idle": "2022-06-24T14:44:50.594474Z",
     "shell.execute_reply": "2022-06-24T14:44:50.593557Z",
     "shell.execute_reply.started": "2022-06-24T14:44:50.587190Z"
    },
    "id": "KbDig6u74z_6"
   },
   "outputs": [],
   "source": [
    "y_train.shape"
   ]
  },
  {
   "cell_type": "code",
   "execution_count": null,
   "metadata": {
    "execution": {
     "iopub.execute_input": "2022-06-24T14:45:12.969905Z",
     "iopub.status.busy": "2022-06-24T14:45:12.969374Z",
     "iopub.status.idle": "2022-06-24T14:45:12.979505Z",
     "shell.execute_reply": "2022-06-24T14:45:12.978155Z",
     "shell.execute_reply.started": "2022-06-24T14:45:12.969869Z"
    },
    "id": "-mebkh164z_6"
   },
   "outputs": [],
   "source": [
    "y_test.shape"
   ]
  },
  {
   "cell_type": "code",
   "execution_count": null,
   "metadata": {
    "execution": {
     "iopub.execute_input": "2022-06-24T14:45:34.849996Z",
     "iopub.status.busy": "2022-06-24T14:45:34.849480Z",
     "iopub.status.idle": "2022-06-24T14:45:34.857343Z",
     "shell.execute_reply": "2022-06-24T14:45:34.855982Z",
     "shell.execute_reply.started": "2022-06-24T14:45:34.849956Z"
    },
    "id": "T8hjFjv04z_6"
   },
   "outputs": [],
   "source": [
    "import tensorflow as tf\n",
    "print(tf.__version__)"
   ]
  },
  {
   "cell_type": "code",
   "execution_count": null,
   "metadata": {
    "execution": {
     "iopub.execute_input": "2022-06-24T14:45:52.883527Z",
     "iopub.status.busy": "2022-06-24T14:45:52.883062Z",
     "iopub.status.idle": "2022-06-24T14:45:52.894008Z",
     "shell.execute_reply": "2022-06-24T14:45:52.892546Z",
     "shell.execute_reply.started": "2022-06-24T14:45:52.883494Z"
    },
    "id": "pMC_861f4z_7"
   },
   "outputs": [],
   "source": [
    "from tensorflow.keras.models import Sequential\n",
    "from tensorflow.keras.layers import Dense,Dropout,Activation,Flatten\n",
    "from tensorflow.keras.optimizers import Adam\n",
    "from sklearn import metrics"
   ]
  },
  {
   "cell_type": "code",
   "execution_count": null,
   "metadata": {
    "execution": {
     "iopub.execute_input": "2022-06-24T14:46:17.763431Z",
     "iopub.status.busy": "2022-06-24T14:46:17.762978Z",
     "iopub.status.idle": "2022-06-24T14:46:17.769416Z",
     "shell.execute_reply": "2022-06-24T14:46:17.768094Z",
     "shell.execute_reply.started": "2022-06-24T14:46:17.763397Z"
    },
    "id": "HXJGmn0s4z_7"
   },
   "outputs": [],
   "source": [
    "num_labels=y.shape[1]"
   ]
  },
  {
   "cell_type": "code",
   "execution_count": null,
   "metadata": {
    "execution": {
     "iopub.execute_input": "2022-06-24T14:46:34.749873Z",
     "iopub.status.busy": "2022-06-24T14:46:34.749465Z",
     "iopub.status.idle": "2022-06-24T14:46:34.924480Z",
     "shell.execute_reply": "2022-06-24T14:46:34.922759Z",
     "shell.execute_reply.started": "2022-06-24T14:46:34.749832Z"
    },
    "id": "A-rYpC3d4z_7"
   },
   "outputs": [],
   "source": [
    "model=Sequential()\n",
    "###first layer\n",
    "model.add(Dense(100,input_shape=(40,)))\n",
    "model.add(Activation('relu'))\n",
    "model.add(Dropout(0.5))\n",
    "###second layer\n",
    "model.add(Dense(200))\n",
    "model.add(Activation('relu'))\n",
    "model.add(Dropout(0.5))\n",
    "###third layer\n",
    "model.add(Dense(100))\n",
    "model.add(Activation('relu'))\n",
    "model.add(Dropout(0.5))\n",
    "\n",
    "###final layer\n",
    "model.add(Dense(num_labels))\n",
    "model.add(Activation('softmax'))"
   ]
  },
  {
   "cell_type": "code",
   "execution_count": null,
   "metadata": {
    "execution": {
     "iopub.execute_input": "2022-06-24T14:46:56.030755Z",
     "iopub.status.busy": "2022-06-24T14:46:56.030244Z",
     "iopub.status.idle": "2022-06-24T14:46:56.037956Z",
     "shell.execute_reply": "2022-06-24T14:46:56.036809Z",
     "shell.execute_reply.started": "2022-06-24T14:46:56.030702Z"
    },
    "id": "3RHks12L4z_7"
   },
   "outputs": [],
   "source": [
    "model.summary()"
   ]
  },
  {
   "cell_type": "code",
   "execution_count": null,
   "metadata": {
    "execution": {
     "iopub.execute_input": "2022-06-24T14:47:19.727331Z",
     "iopub.status.busy": "2022-06-24T14:47:19.726961Z",
     "iopub.status.idle": "2022-06-24T14:47:19.743523Z",
     "shell.execute_reply": "2022-06-24T14:47:19.742207Z",
     "shell.execute_reply.started": "2022-06-24T14:47:19.727303Z"
    },
    "id": "wLf7a8GA4z_7"
   },
   "outputs": [],
   "source": [
    "model.compile(loss='categorical_crossentropy',metrics=['accuracy'],optimizer='adam')"
   ]
  },
  {
   "cell_type": "code",
   "execution_count": null,
   "metadata": {
    "execution": {
     "iopub.execute_input": "2022-06-24T14:47:34.062608Z",
     "iopub.status.busy": "2022-06-24T14:47:34.062220Z",
     "iopub.status.idle": "2022-06-24T14:49:56.816831Z",
     "shell.execute_reply": "2022-06-24T14:49:56.815083Z",
     "shell.execute_reply.started": "2022-06-24T14:47:34.062577Z"
    },
    "id": "m61F9Ikx4z_7"
   },
   "outputs": [],
   "source": [
    "## Trianing my model\n",
    "from tensorflow.keras.callbacks import ModelCheckpoint\n",
    "from datetime import datetime \n",
    "\n",
    "num_epochs = 100\n",
    "num_batch_size = 32\n",
    "\n",
    "checkpointer = ModelCheckpoint(filepath='saved_models/audio_classification.hdf5', \n",
    "                               verbose=1, save_best_only=True)\n",
    "start = datetime.now()\n",
    "\n",
    "model.fit(X_train, y_train, batch_size=num_batch_size, epochs=num_epochs, validation_data=(X_test, y_test), callbacks=[checkpointer], verbose=1)\n",
    "\n",
    "\n",
    "duration = datetime.now() - start\n",
    "print(\"Training completed in time: \", duration)"
   ]
  },
  {
   "cell_type": "code",
   "execution_count": null,
   "metadata": {
    "execution": {
     "iopub.execute_input": "2022-06-24T14:51:30.792500Z",
     "iopub.status.busy": "2022-06-24T14:51:30.792096Z",
     "iopub.status.idle": "2022-06-24T14:51:31.101701Z",
     "shell.execute_reply": "2022-06-24T14:51:31.100207Z",
     "shell.execute_reply.started": "2022-06-24T14:51:30.792471Z"
    },
    "id": "O_8a6J814z_8"
   },
   "outputs": [],
   "source": [
    "model.predict(X_test)"
   ]
  },
  {
   "cell_type": "code",
   "execution_count": null,
   "metadata": {
    "execution": {
     "iopub.execute_input": "2022-06-24T14:52:31.437169Z",
     "iopub.status.busy": "2022-06-24T14:52:31.435625Z",
     "iopub.status.idle": "2022-06-24T14:52:31.570555Z",
     "shell.execute_reply": "2022-06-24T14:52:31.569162Z",
     "shell.execute_reply.started": "2022-06-24T14:52:31.437102Z"
    },
    "id": "9UDUqEcA4z_8"
   },
   "outputs": [],
   "source": [
    "filename=\"../input/urbansound8k/fold9/101729-0-0-11.wav\"\n",
    "audio, sample_rate = librosa.load(filename, res_type='kaiser_fast') \n",
    "mfccs_features = librosa.feature.mfcc(y=audio, sr=sample_rate, n_mfcc=40)\n",
    "mfccs_scaled_features = np.mean(mfccs_features.T,axis=0)\n",
    "\n",
    "print(mfccs_scaled_features)\n",
    "mfccs_scaled_features=mfccs_scaled_features.reshape(1,-1)\n",
    "print(mfccs_scaled_features)\n",
    "print(mfccs_scaled_features.shape)"
   ]
  }
 ],
 "metadata": {
  "colab": {
   "collapsed_sections": [],
   "include_colab_link": true,
   "name": "Audio Classification.ipynb",
   "provenance": []
  },
  "kernelspec": {
   "display_name": "Python 3 (ipykernel)",
   "language": "python",
   "name": "python3"
  },
  "language_info": {
   "codemirror_mode": {
    "name": "ipython",
    "version": 3
   },
   "file_extension": ".py",
   "mimetype": "text/x-python",
   "name": "python",
   "nbconvert_exporter": "python",
   "pygments_lexer": "ipython3",
   "version": "3.10.4"
  }
 },
 "nbformat": 4,
 "nbformat_minor": 1
}
