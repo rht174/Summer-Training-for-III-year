{
 "cells": [
  {
   "cell_type": "markdown",
   "metadata": {
    "colab_type": "text",
    "id": "view-in-github"
   },
   "source": [
    "<!-- <a href=\"https://colab.research.google.com/github/vkate1/Summer-Training-for-III-year/blob/main/Day9/RNN/rnn.ipynb\" target=\"_parent\"><img src=\"https://colab.research.google.com/assets/colab-badge.svg\" alt=\"Open In Colab\"/></a> -->"
   ]
  },
  {
   "cell_type": "markdown",
   "metadata": {
    "id": "xpAuMVCwfWs8"
   },
   "source": [
    "# Recurrent Neural Network"
   ]
  },
  {
   "cell_type": "markdown",
   "metadata": {
    "id": "nxJfRe4bfYVA"
   },
   "source": [
    "## Part 1 - Data Preprocessing"
   ]
  },
  {
   "cell_type": "markdown",
   "metadata": {
    "id": "ir9zwETrfbrp"
   },
   "source": [
    "### Importing the libraries"
   ]
  },
  {
   "cell_type": "code",
   "execution_count": 1,
   "metadata": {
    "id": "ZT1f24vHffuf"
   },
   "outputs": [],
   "source": [
    "import numpy as np\n",
    "import matplotlib.pyplot as plt\n",
    "import pandas as pd"
   ]
  },
  {
   "cell_type": "markdown",
   "metadata": {
    "id": "nQ47JAxrgmaL"
   },
   "source": [
    "### Importing the training set"
   ]
  },
  {
   "cell_type": "code",
   "execution_count": 2,
   "metadata": {
    "id": "1xiv3pJOgqY3"
   },
   "outputs": [],
   "source": [
    "dataset_train = pd.read_csv('Google_Stock_Price_Train.csv')\n",
    "training_set = dataset_train.iloc[:, 1:2].values"
   ]
  },
  {
   "cell_type": "markdown",
   "metadata": {
    "id": "HT8_2UJegtG5"
   },
   "source": [
    "### Feature Scaling"
   ]
  },
  {
   "cell_type": "code",
   "execution_count": 3,
   "metadata": {
    "id": "OTrF2kR7gx9x"
   },
   "outputs": [],
   "source": [
    "from sklearn.preprocessing import MinMaxScaler\n",
    "sc = MinMaxScaler(feature_range = (0, 1))\n",
    "training_set_scaled = sc.fit_transform(training_set)"
   ]
  },
  {
   "cell_type": "markdown",
   "metadata": {
    "id": "JyYgYocqhNUg"
   },
   "source": [
    "### Creating a data structure with 60 timesteps and 1 output"
   ]
  },
  {
   "cell_type": "code",
   "execution_count": 4,
   "metadata": {
    "id": "iofU21B0i6ST"
   },
   "outputs": [],
   "source": [
    "X_train = []\n",
    "y_train = []\n",
    "for i in range(60, 1258):\n",
    "    X_train.append(training_set_scaled[i-60:i, 0])\n",
    "    y_train.append(training_set_scaled[i, 0])\n",
    "X_train, y_train = np.array(X_train), np.array(y_train)"
   ]
  },
  {
   "cell_type": "markdown",
   "metadata": {
    "id": "D8yaN7Zvi95l"
   },
   "source": [
    "### Reshaping"
   ]
  },
  {
   "cell_type": "code",
   "execution_count": 5,
   "metadata": {
    "id": "FOXqJHmNjBkz"
   },
   "outputs": [
    {
     "data": {
      "text/plain": [
       "array([[[0.08581368],\n",
       "        [0.09701243],\n",
       "        [0.09433366],\n",
       "        ...,\n",
       "        [0.07846566],\n",
       "        [0.08034452],\n",
       "        [0.08497656]],\n",
       "\n",
       "       [[0.09701243],\n",
       "        [0.09433366],\n",
       "        [0.09156187],\n",
       "        ...,\n",
       "        [0.08034452],\n",
       "        [0.08497656],\n",
       "        [0.08627874]],\n",
       "\n",
       "       [[0.09433366],\n",
       "        [0.09156187],\n",
       "        [0.07984225],\n",
       "        ...,\n",
       "        [0.08497656],\n",
       "        [0.08627874],\n",
       "        [0.08471612]],\n",
       "\n",
       "       ...,\n",
       "\n",
       "       [[0.92106928],\n",
       "        [0.92438053],\n",
       "        [0.93048218],\n",
       "        ...,\n",
       "        [0.95475854],\n",
       "        [0.95204256],\n",
       "        [0.95163331]],\n",
       "\n",
       "       [[0.92438053],\n",
       "        [0.93048218],\n",
       "        [0.9299055 ],\n",
       "        ...,\n",
       "        [0.95204256],\n",
       "        [0.95163331],\n",
       "        [0.95725128]],\n",
       "\n",
       "       [[0.93048218],\n",
       "        [0.9299055 ],\n",
       "        [0.93113327],\n",
       "        ...,\n",
       "        [0.95163331],\n",
       "        [0.95725128],\n",
       "        [0.93796041]]])"
      ]
     },
     "execution_count": 5,
     "metadata": {},
     "output_type": "execute_result"
    }
   ],
   "source": [
    "X_train = np.reshape(X_train, (X_train.shape[0], X_train.shape[1], 1))\n",
    "X_train"
   ]
  },
  {
   "cell_type": "markdown",
   "metadata": {
    "id": "ZRRSOJeVjEWV"
   },
   "source": [
    "## Part 2 - Building and Training the RNN"
   ]
  },
  {
   "cell_type": "markdown",
   "metadata": {
    "id": "k4XV88JMjHXG"
   },
   "source": [
    "### Importing the Keras libraries and packages"
   ]
  },
  {
   "cell_type": "code",
   "execution_count": 6,
   "metadata": {
    "id": "9JRnqsxEjKsD"
   },
   "outputs": [],
   "source": [
    "from keras.models import Sequential\n",
    "from keras.layers import Dense\n",
    "from keras.layers import LSTM\n",
    "from keras.layers import Dropout"
   ]
  },
  {
   "cell_type": "markdown",
   "metadata": {
    "id": "FEIE-1s9jNzC"
   },
   "source": [
    "### Initialising the RNN"
   ]
  },
  {
   "cell_type": "code",
   "execution_count": 7,
   "metadata": {
    "id": "1338dJ0UjRKH"
   },
   "outputs": [],
   "source": [
    "regressor = Sequential()"
   ]
  },
  {
   "cell_type": "markdown",
   "metadata": {
    "id": "62eg1OPGjT8z"
   },
   "source": [
    "### Adding the first LSTM layer and some Dropout regularisation"
   ]
  },
  {
   "cell_type": "code",
   "execution_count": 8,
   "metadata": {
    "id": "2hIinyXUjbVU"
   },
   "outputs": [],
   "source": [
    "regressor.add(LSTM(units = 50, return_sequences = True, input_shape = (X_train.shape[1], 1)))\n",
    "regressor.add(Dropout(0.2))"
   ]
  },
  {
   "cell_type": "markdown",
   "metadata": {
    "id": "3XBIYLyOjlMx"
   },
   "source": [
    "### Adding a second LSTM layer and some Dropout regularisation"
   ]
  },
  {
   "cell_type": "code",
   "execution_count": 9,
   "metadata": {
    "id": "UG7nrVaSjuZ2"
   },
   "outputs": [],
   "source": [
    "regressor.add(LSTM(units = 50, return_sequences = True))\n",
    "regressor.add(Dropout(0.2))"
   ]
  },
  {
   "cell_type": "markdown",
   "metadata": {
    "id": "Ey3fHVnGj1cu"
   },
   "source": [
    "### Adding a third LSTM layer and some Dropout regularisation"
   ]
  },
  {
   "cell_type": "code",
   "execution_count": 10,
   "metadata": {
    "id": "PuNi6PgFj7jO"
   },
   "outputs": [],
   "source": [
    "regressor.add(LSTM(units = 50, return_sequences = True))\n",
    "regressor.add(Dropout(0.2))"
   ]
  },
  {
   "cell_type": "markdown",
   "metadata": {
    "id": "SYTrtfTmj933"
   },
   "source": [
    "### Adding a fourth LSTM layer and some Dropout regularisation"
   ]
  },
  {
   "cell_type": "code",
   "execution_count": 11,
   "metadata": {
    "id": "Jp4Ty8fRkBYV"
   },
   "outputs": [],
   "source": [
    "regressor.add(LSTM(units = 50))\n",
    "regressor.add(Dropout(0.2))"
   ]
  },
  {
   "cell_type": "markdown",
   "metadata": {
    "id": "9ABI6rOIkHhk"
   },
   "source": [
    "### Adding the output layer"
   ]
  },
  {
   "cell_type": "code",
   "execution_count": 12,
   "metadata": {
    "id": "aM6R1z4WkME8"
   },
   "outputs": [],
   "source": [
    "regressor.add(Dense(units = 1))"
   ]
  },
  {
   "cell_type": "markdown",
   "metadata": {
    "id": "zLx4K7uUkPSh"
   },
   "source": [
    "### Compiling the RNN"
   ]
  },
  {
   "cell_type": "code",
   "execution_count": 13,
   "metadata": {
    "id": "XTrhVN-tkbko"
   },
   "outputs": [],
   "source": [
    "regressor.compile(optimizer = 'adam', loss = 'mean_squared_error')"
   ]
  },
  {
   "cell_type": "markdown",
   "metadata": {
    "id": "-mPhwKGkkebi"
   },
   "source": [
    "### Fitting the RNN to the Training set"
   ]
  },
  {
   "cell_type": "code",
   "execution_count": 14,
   "metadata": {
    "colab": {
     "base_uri": "https://localhost:8080/"
    },
    "id": "I06Nkrz5kkb-",
    "outputId": "e46035e3-2c86-4977-aa29-eb55b1ee9b98"
   },
   "outputs": [
    {
     "name": "stdout",
     "output_type": "stream",
     "text": [
      "Epoch 1/100\n",
      "38/38 [==============================] - 6s 47ms/step - loss: 0.0406\n",
      "Epoch 2/100\n",
      "38/38 [==============================] - 2s 47ms/step - loss: 0.0066\n",
      "Epoch 3/100\n",
      "38/38 [==============================] - 2s 47ms/step - loss: 0.0057\n",
      "Epoch 4/100\n",
      "38/38 [==============================] - 2s 47ms/step - loss: 0.0055\n",
      "Epoch 5/100\n",
      "38/38 [==============================] - 2s 47ms/step - loss: 0.0059\n",
      "Epoch 6/100\n",
      "38/38 [==============================] - 2s 47ms/step - loss: 0.0050\n",
      "Epoch 7/100\n",
      "38/38 [==============================] - 2s 47ms/step - loss: 0.0047\n",
      "Epoch 8/100\n",
      "38/38 [==============================] - 2s 47ms/step - loss: 0.0045\n",
      "Epoch 9/100\n",
      "38/38 [==============================] - 2s 47ms/step - loss: 0.0041\n",
      "Epoch 10/100\n",
      "38/38 [==============================] - 2s 46ms/step - loss: 0.0048\n",
      "Epoch 11/100\n",
      "38/38 [==============================] - 2s 46ms/step - loss: 0.0044\n",
      "Epoch 12/100\n",
      "38/38 [==============================] - 2s 47ms/step - loss: 0.0047\n",
      "Epoch 13/100\n",
      "38/38 [==============================] - 2s 47ms/step - loss: 0.0047\n",
      "Epoch 14/100\n",
      "38/38 [==============================] - 2s 47ms/step - loss: 0.0039\n",
      "Epoch 15/100\n",
      "38/38 [==============================] - 2s 50ms/step - loss: 0.0040\n",
      "Epoch 16/100\n",
      "38/38 [==============================] - 2s 48ms/step - loss: 0.0039\n",
      "Epoch 17/100\n",
      "38/38 [==============================] - 2s 47ms/step - loss: 0.0035\n",
      "Epoch 18/100\n",
      "38/38 [==============================] - 2s 47ms/step - loss: 0.0036\n",
      "Epoch 19/100\n",
      "38/38 [==============================] - 2s 47ms/step - loss: 0.0034\n",
      "Epoch 20/100\n",
      "38/38 [==============================] - 2s 47ms/step - loss: 0.0037\n",
      "Epoch 21/100\n",
      "38/38 [==============================] - 2s 46ms/step - loss: 0.0035\n",
      "Epoch 22/100\n",
      "38/38 [==============================] - 2s 47ms/step - loss: 0.0036\n",
      "Epoch 23/100\n",
      "38/38 [==============================] - 2s 47ms/step - loss: 0.0034\n",
      "Epoch 24/100\n",
      "38/38 [==============================] - 2s 47ms/step - loss: 0.0035\n",
      "Epoch 25/100\n",
      "38/38 [==============================] - 2s 48ms/step - loss: 0.0033\n",
      "Epoch 26/100\n",
      "38/38 [==============================] - 2s 50ms/step - loss: 0.0032\n",
      "Epoch 27/100\n",
      "38/38 [==============================] - 2s 47ms/step - loss: 0.0034\n",
      "Epoch 28/100\n",
      "38/38 [==============================] - 2s 47ms/step - loss: 0.0031\n",
      "Epoch 29/100\n",
      "38/38 [==============================] - 2s 47ms/step - loss: 0.0032\n",
      "Epoch 30/100\n",
      "38/38 [==============================] - 2s 46ms/step - loss: 0.0031\n",
      "Epoch 31/100\n",
      "38/38 [==============================] - 2s 47ms/step - loss: 0.0034\n",
      "Epoch 32/100\n",
      "38/38 [==============================] - 2s 47ms/step - loss: 0.0029\n",
      "Epoch 33/100\n",
      "38/38 [==============================] - 2s 46ms/step - loss: 0.0029\n",
      "Epoch 34/100\n",
      "38/38 [==============================] - 2s 47ms/step - loss: 0.0026\n",
      "Epoch 35/100\n",
      "38/38 [==============================] - 2s 47ms/step - loss: 0.0030\n",
      "Epoch 36/100\n",
      "38/38 [==============================] - 2s 47ms/step - loss: 0.0030\n",
      "Epoch 37/100\n",
      "38/38 [==============================] - 2s 47ms/step - loss: 0.0026\n",
      "Epoch 38/100\n",
      "38/38 [==============================] - 2s 50ms/step - loss: 0.0030\n",
      "Epoch 39/100\n",
      "38/38 [==============================] - 2s 48ms/step - loss: 0.0026\n",
      "Epoch 40/100\n",
      "38/38 [==============================] - 2s 48ms/step - loss: 0.0026\n",
      "Epoch 41/100\n",
      "38/38 [==============================] - 2s 49ms/step - loss: 0.0026\n",
      "Epoch 42/100\n",
      "38/38 [==============================] - 2s 49ms/step - loss: 0.0024\n",
      "Epoch 43/100\n",
      "38/38 [==============================] - 2s 48ms/step - loss: 0.0027\n",
      "Epoch 44/100\n",
      "38/38 [==============================] - 2s 48ms/step - loss: 0.0024\n",
      "Epoch 45/100\n",
      "38/38 [==============================] - 2s 49ms/step - loss: 0.0023\n",
      "Epoch 46/100\n",
      "38/38 [==============================] - 2s 49ms/step - loss: 0.0024\n",
      "Epoch 47/100\n",
      "38/38 [==============================] - 2s 50ms/step - loss: 0.0025\n",
      "Epoch 48/100\n",
      "38/38 [==============================] - 2s 50ms/step - loss: 0.0026\n",
      "Epoch 49/100\n",
      "38/38 [==============================] - 2s 51ms/step - loss: 0.0024\n",
      "Epoch 50/100\n",
      "38/38 [==============================] - 2s 49ms/step - loss: 0.0024\n",
      "Epoch 51/100\n",
      "38/38 [==============================] - 2s 48ms/step - loss: 0.0022\n",
      "Epoch 52/100\n",
      "38/38 [==============================] - 2s 50ms/step - loss: 0.0024\n",
      "Epoch 53/100\n",
      "38/38 [==============================] - 2s 50ms/step - loss: 0.0025\n",
      "Epoch 54/100\n",
      "38/38 [==============================] - 2s 52ms/step - loss: 0.0022\n",
      "Epoch 55/100\n",
      "38/38 [==============================] - 2s 52ms/step - loss: 0.0022\n",
      "Epoch 56/100\n",
      "38/38 [==============================] - 2s 52ms/step - loss: 0.0022\n",
      "Epoch 57/100\n",
      "38/38 [==============================] - 2s 50ms/step - loss: 0.0022\n",
      "Epoch 58/100\n",
      "38/38 [==============================] - 2s 51ms/step - loss: 0.0021\n",
      "Epoch 59/100\n",
      "38/38 [==============================] - 2s 50ms/step - loss: 0.0021\n",
      "Epoch 60/100\n",
      "38/38 [==============================] - 2s 51ms/step - loss: 0.0023\n",
      "Epoch 61/100\n",
      "38/38 [==============================] - 2s 51ms/step - loss: 0.0021\n",
      "Epoch 62/100\n",
      "38/38 [==============================] - 2s 50ms/step - loss: 0.0023\n",
      "Epoch 63/100\n",
      "38/38 [==============================] - 2s 50ms/step - loss: 0.0022\n",
      "Epoch 64/100\n",
      "38/38 [==============================] - 2s 52ms/step - loss: 0.0021\n",
      "Epoch 65/100\n",
      "38/38 [==============================] - 2s 52ms/step - loss: 0.0020\n",
      "Epoch 66/100\n",
      "38/38 [==============================] - 2s 51ms/step - loss: 0.0020\n",
      "Epoch 67/100\n",
      "38/38 [==============================] - 2s 52ms/step - loss: 0.0017\n",
      "Epoch 68/100\n",
      "38/38 [==============================] - 2s 52ms/step - loss: 0.0017\n",
      "Epoch 69/100\n",
      "38/38 [==============================] - 2s 52ms/step - loss: 0.0019\n",
      "Epoch 70/100\n",
      "38/38 [==============================] - 2s 52ms/step - loss: 0.0019\n",
      "Epoch 71/100\n",
      "38/38 [==============================] - 2s 50ms/step - loss: 0.0018\n",
      "Epoch 72/100\n",
      "38/38 [==============================] - 2s 51ms/step - loss: 0.0018\n",
      "Epoch 73/100\n",
      "38/38 [==============================] - 2s 51ms/step - loss: 0.0018\n",
      "Epoch 74/100\n",
      "38/38 [==============================] - 2s 52ms/step - loss: 0.0020\n",
      "Epoch 75/100\n",
      "38/38 [==============================] - 2s 51ms/step - loss: 0.0018\n",
      "Epoch 76/100\n",
      "38/38 [==============================] - 2s 54ms/step - loss: 0.0020\n",
      "Epoch 77/100\n",
      "38/38 [==============================] - 2s 55ms/step - loss: 0.0019\n",
      "Epoch 78/100\n",
      "38/38 [==============================] - 2s 54ms/step - loss: 0.0019\n",
      "Epoch 79/100\n",
      "38/38 [==============================] - 2s 56ms/step - loss: 0.0017\n",
      "Epoch 80/100\n",
      "38/38 [==============================] - 2s 53ms/step - loss: 0.0017\n",
      "Epoch 81/100\n",
      "38/38 [==============================] - 2s 50ms/step - loss: 0.0017\n",
      "Epoch 82/100\n",
      "38/38 [==============================] - 2s 50ms/step - loss: 0.0017\n",
      "Epoch 83/100\n",
      "38/38 [==============================] - 2s 49ms/step - loss: 0.0015\n",
      "Epoch 84/100\n",
      "38/38 [==============================] - 2s 50ms/step - loss: 0.0016\n",
      "Epoch 85/100\n",
      "38/38 [==============================] - 2s 49ms/step - loss: 0.0015\n",
      "Epoch 86/100\n",
      "38/38 [==============================] - 2s 50ms/step - loss: 0.0016\n",
      "Epoch 87/100\n",
      "38/38 [==============================] - 2s 49ms/step - loss: 0.0016\n",
      "Epoch 88/100\n",
      "38/38 [==============================] - 2s 50ms/step - loss: 0.0016\n",
      "Epoch 89/100\n",
      "38/38 [==============================] - 2s 51ms/step - loss: 0.0016\n",
      "Epoch 90/100\n",
      "38/38 [==============================] - 2s 51ms/step - loss: 0.0015\n",
      "Epoch 91/100\n",
      "38/38 [==============================] - 2s 50ms/step - loss: 0.0017\n",
      "Epoch 92/100\n",
      "38/38 [==============================] - 2s 49ms/step - loss: 0.0016\n",
      "Epoch 93/100\n",
      "38/38 [==============================] - 2s 50ms/step - loss: 0.0015\n",
      "Epoch 94/100\n",
      "38/38 [==============================] - 2s 49ms/step - loss: 0.0014\n",
      "Epoch 95/100\n",
      "38/38 [==============================] - 2s 50ms/step - loss: 0.0015\n",
      "Epoch 96/100\n",
      "38/38 [==============================] - 2s 50ms/step - loss: 0.0015\n",
      "Epoch 97/100\n",
      "38/38 [==============================] - 2s 50ms/step - loss: 0.0014\n",
      "Epoch 98/100\n",
      "38/38 [==============================] - 2s 50ms/step - loss: 0.0014\n",
      "Epoch 99/100\n",
      "38/38 [==============================] - 2s 50ms/step - loss: 0.0014\n",
      "Epoch 100/100\n",
      "38/38 [==============================] - 2s 51ms/step - loss: 0.0014\n"
     ]
    },
    {
     "data": {
      "text/plain": [
       "<keras.callbacks.History at 0x19b7f3335e0>"
      ]
     },
     "execution_count": 14,
     "metadata": {},
     "output_type": "execute_result"
    }
   ],
   "source": [
    "regressor.fit(X_train, y_train, epochs = 100, batch_size = 32)"
   ]
  },
  {
   "cell_type": "markdown",
   "metadata": {
    "id": "4hRau_lIkrE8"
   },
   "source": [
    "## Part 3 - Making the predictions and visualising the results"
   ]
  },
  {
   "cell_type": "markdown",
   "metadata": {
    "id": "SgJO6qEDksxD"
   },
   "source": [
    "### Getting the real stock price of 2017"
   ]
  },
  {
   "cell_type": "code",
   "execution_count": 15,
   "metadata": {
    "id": "FmBT2zqukxTz"
   },
   "outputs": [],
   "source": [
    "dataset_test = pd.read_csv('Google_Stock_Price_Test.csv')\n",
    "real_stock_price = dataset_test.iloc[:, 1:2].values"
   ]
  },
  {
   "cell_type": "markdown",
   "metadata": {
    "id": "GrvrLblxkz42"
   },
   "source": [
    "### Getting the predicted stock price of 2017"
   ]
  },
  {
   "cell_type": "code",
   "execution_count": 16,
   "metadata": {
    "id": "emikTvUpk3Ck"
   },
   "outputs": [
    {
     "name": "stdout",
     "output_type": "stream",
     "text": [
      "1/1 [==============================] - 1s 911ms/step\n"
     ]
    }
   ],
   "source": [
    "dataset_total = pd.concat((dataset_train['Open'], dataset_test['Open']), axis = 0)\n",
    "inputs = dataset_total[len(dataset_total) - len(dataset_test) - 60:].values\n",
    "inputs = inputs.reshape(-1,1)\n",
    "inputs = sc.transform(inputs)\n",
    "X_test = []\n",
    "for i in range(60, 80):\n",
    "    X_test.append(inputs[i-60:i, 0])\n",
    "X_test = np.array(X_test)\n",
    "X_test = np.reshape(X_test, (X_test.shape[0], X_test.shape[1], 1))\n",
    "predicted_stock_price = regressor.predict(X_test)\n",
    "predicted_stock_price = sc.inverse_transform(predicted_stock_price)"
   ]
  },
  {
   "cell_type": "markdown",
   "metadata": {
    "id": "iFTNs3YHk6FQ"
   },
   "source": [
    "### Visualising the results"
   ]
  },
  {
   "cell_type": "code",
   "execution_count": 17,
   "metadata": {
    "colab": {
     "base_uri": "https://localhost:8080/",
     "height": 295
    },
    "id": "8OUI8U49k9tH",
    "outputId": "afa60121-dd64-49dd-8d3e-45509932c3d2"
   },
   "outputs": [
    {
     "data": {
      "image/png": "[encoded data removed]",
      "text/plain": [
       "<Figure size 432x288 with 1 Axes>"
      ]
     },
     "metadata": {
      "needs_background": "light"
     },
     "output_type": "display_data"
    }
   ],
   "source": [
    "plt.plot(real_stock_price, color = 'red', label = 'Real Google Stock Price')\n",
    "plt.plot(predicted_stock_price, color = 'blue', label = 'Predicted Google Stock Price')\n",
    "plt.title('Google Stock Price Prediction')\n",
    "plt.xlabel('Time')\n",
    "plt.ylabel('Google Stock Price')\n",
    "plt.legend()\n",
    "plt.show()"
   ]
  }
 ],
 "metadata": {
  "colab": {
   "collapsed_sections": [],
   "include_colab_link": true,
   "name": "rnn.ipynb",
   "provenance": []
  },
  "kernelspec": {
   "display_name": "Python 3 (ipykernel)",
   "language": "python",
   "name": "python3"
  },
  "language_info": {
   "codemirror_mode": {
    "name": "ipython",
    "version": 3
   },
   "file_extension": ".py",
   "mimetype": "text/x-python",
   "name": "python",
   "nbconvert_exporter": "python",
   "pygments_lexer": "ipython3",
   "version": "3.10.4"
  }
 },
 "nbformat": 4,
 "nbformat_minor": 1
}
