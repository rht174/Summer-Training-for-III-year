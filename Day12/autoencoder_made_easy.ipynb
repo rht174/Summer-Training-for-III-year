{
 "metadata": {
  "kernelspec": {
   "language": "python",
   "display_name": "Python 3",
   "name": "python3"
  },
  "language_info": {
   "name": "python",
   "version": "3.7.6",
   "mimetype": "text/x-python",
   "codemirror_mode": {
    "name": "ipython",
    "version": 3
   },
   "pygments_lexer": "ipython3",
   "nbconvert_exporter": "python",
   "file_extension": ".py"
  },
  "colab": {
   "name": "autoencoder-made-easy.ipynb",
   "provenance": [],
   "include_colab_link": true
  }
 },
 "nbformat_minor": 0,
 "nbformat": 4,
 "cells": [
  {
   "cell_type": "markdown",
   "metadata": {
    "id": "view-in-github",
    "colab_type": "text",
    "pycharm": {
     "name": "#%% md\n"
    }
   },
   "source": [
    "<a href=\"https://colab.research.google.com/github/vkate1/Summer-Training-for-III-year/blob/main/Day12/autoencoder_made_easy.ipynb\" target=\"_parent\"><img src=\"https://colab.research.google.com/assets/colab-badge.svg\" alt=\"Open In Colab\"/></a>"
   ]
  },
  {
   "cell_type": "markdown",
   "source": [
    "** You could find my Kaggle notebook by clicking this link below** https://www.kaggle.com/code/vandanakate19/autoencoder-made-easy"
   ],
   "metadata": {
    "id": "zonwhYp3lfsZ",
    "pycharm": {
     "name": "#%% md\n"
    }
   }
  },
  {
   "cell_type": "code",
   "source": [
    "import numpy as np\n",
    "import pandas as pd\n",
    "import os\n",
    "import matplotlib.pyplot as plt\n",
    "from keras.datasets import mnist\n",
    "from keras.layers import Input, Dense, Conv2D, MaxPooling2D, UpSampling2D, Conv2DTranspose\n",
    "from keras.models import Model\n",
    "from keras.preprocessing import image"
   ],
   "metadata": {
    "_uuid": "8f2839f25d086af736a60e9eeb907d3b93b6e0e5",
    "_cell_guid": "b1076dfc-b9ad-4769-8c92-a6c4dae69d19",
    "execution": {
     "iopub.status.busy": "2022-07-04T15:48:28.281156Z",
     "iopub.execute_input": "2022-07-04T15:48:28.281682Z",
     "iopub.status.idle": "2022-07-04T15:48:33.725526Z",
     "shell.execute_reply.started": "2022-07-04T15:48:28.281624Z",
     "shell.execute_reply": "2022-07-04T15:48:33.724617Z"
    },
    "trusted": true,
    "id": "lSpiXqJKlcxj",
    "pycharm": {
     "name": "#%%\n"
    }
   },
   "execution_count": 1,
   "outputs": []
  },
  {
   "cell_type": "markdown",
   "source": [
    "> ## >Part 1\n",
    "# *Get MNIST handwritten digit data*"
   ],
   "metadata": {
    "id": "uL5s4PYklcxm",
    "pycharm": {
     "name": "#%% md\n"
    }
   }
  },
  {
   "cell_type": "code",
   "source": [
    "# Why _?? because we dont care for Y_train or Y_test \n",
    "\n",
    "\n",
    "(X_train, _), (X_test, _) = mnist.load_data()"
   ],
   "metadata": {
    "execution": {
     "iopub.status.busy": "2022-07-04T15:48:33.729975Z",
     "iopub.execute_input": "2022-07-04T15:48:33.730260Z",
     "iopub.status.idle": "2022-07-04T15:48:35.449117Z",
     "shell.execute_reply.started": "2022-07-04T15:48:33.730230Z",
     "shell.execute_reply": "2022-07-04T15:48:35.447727Z"
    },
    "trusted": true,
    "id": "T90KexPilcxo",
    "pycharm": {
     "name": "#%%\n"
    }
   },
   "execution_count": 2,
   "outputs": []
  },
  {
   "cell_type": "code",
   "source": [
    "print(\"X_train\", X_train.shape)\n",
    "print(\"X_test\", X_test.shape)"
   ],
   "metadata": {
    "execution": {
     "iopub.status.busy": "2022-07-04T15:48:40.390203Z",
     "iopub.execute_input": "2022-07-04T15:48:40.390715Z",
     "iopub.status.idle": "2022-07-04T15:48:40.400618Z",
     "shell.execute_reply.started": "2022-07-04T15:48:40.390671Z",
     "shell.execute_reply": "2022-07-04T15:48:40.397807Z"
    },
    "trusted": true,
    "id": "sSS6w8iAlcxo",
    "pycharm": {
     "name": "#%%\n"
    }
   },
   "execution_count": 3,
   "outputs": [
    {
     "name": "stdout",
     "output_type": "stream",
     "text": [
      "X_train (60000, 28, 28)\n",
      "X_test (10000, 28, 28)\n"
     ]
    }
   ]
  },
  {
   "cell_type": "code",
   "source": [
    "len(X_train)"
   ],
   "metadata": {
    "execution": {
     "iopub.status.busy": "2022-07-04T15:48:48.659872Z",
     "iopub.execute_input": "2022-07-04T15:48:48.660254Z",
     "iopub.status.idle": "2022-07-04T15:48:48.668893Z",
     "shell.execute_reply.started": "2022-07-04T15:48:48.660223Z",
     "shell.execute_reply": "2022-07-04T15:48:48.667647Z"
    },
    "trusted": true,
    "id": "_MyB9Nsvlcxp",
    "pycharm": {
     "name": "#%%\n"
    }
   },
   "execution_count": 4,
   "outputs": [
    {
     "data": {
      "text/plain": "60000"
     },
     "execution_count": 4,
     "metadata": {},
     "output_type": "execute_result"
    }
   ]
  },
  {
   "cell_type": "markdown",
   "source": [
    "# *Preprocess the data*"
   ],
   "metadata": {
    "id": "SDEqltdglcxp",
    "pycharm": {
     "name": "#%% md\n"
    }
   }
  },
  {
   "cell_type": "code",
   "source": [
    "# We Normalize the 3D images   \n",
    "# 28 X 28 = 784 (Flattening)\n",
    "\n",
    "def pre_process(X):\n",
    "    X = X/255.0\n",
    "    X = X.reshape((len(X), 784))\n",
    "    return X\n",
    "\n",
    "X_train  =  pre_process(X_train)\n",
    "X_test  =  pre_process(X_test)\n",
    "\n",
    "print(\"X_train\", X_train.shape)\n",
    "print(\"X_test\", X_test.shape)"
   ],
   "metadata": {
    "execution": {
     "iopub.status.busy": "2022-07-04T15:49:41.327786Z",
     "iopub.execute_input": "2022-07-04T15:49:41.328163Z",
     "iopub.status.idle": "2022-07-04T15:49:41.544873Z",
     "shell.execute_reply.started": "2022-07-04T15:49:41.328121Z",
     "shell.execute_reply": "2022-07-04T15:49:41.543663Z"
    },
    "trusted": true,
    "id": "UZP0ZURMlcxq",
    "pycharm": {
     "name": "#%%\n"
    }
   },
   "execution_count": 5,
   "outputs": [
    {
     "name": "stdout",
     "output_type": "stream",
     "text": [
      "X_train (60000, 784)\n",
      "X_test (10000, 784)\n"
     ]
    }
   ]
  },
  {
   "cell_type": "markdown",
   "source": [
    "# *Visualize the digits*"
   ],
   "metadata": {
    "id": "SLtE56dFlcxq",
    "pycharm": {
     "name": "#%% md\n"
    }
   }
  },
  {
   "cell_type": "code",
   "source": [
    "\n",
    "def show_data(X, n=10, height=28, width=28, title=\"\"):\n",
    "    plt.figure(figsize=(10, 3))\n",
    "    for i in range(n):\n",
    "        ax = plt.subplot(2,n,i+1)\n",
    "        plt.imshow(X[i].reshape((height,width)))\n",
    "        plt.gray()\n",
    "        ax.get_xaxis().set_visible(False)\n",
    "        ax.get_yaxis().set_visible(False)\n",
    "    plt.suptitle(title, fontsize = 20)"
   ],
   "metadata": {
    "_uuid": "d629ff2d2480ee46fbb7e2d37f6b5fab8052498a",
    "_cell_guid": "79c7e3d0-c299-4dcb-8224-4455121ee9b0",
    "execution": {
     "iopub.status.busy": "2022-07-04T15:50:23.884666Z",
     "iopub.execute_input": "2022-07-04T15:50:23.885051Z",
     "iopub.status.idle": "2022-07-04T15:50:23.895240Z",
     "shell.execute_reply.started": "2022-07-04T15:50:23.885018Z",
     "shell.execute_reply": "2022-07-04T15:50:23.894034Z"
    },
    "trusted": true,
    "id": "ziACVXW7lcxq",
    "pycharm": {
     "name": "#%%\n"
    }
   },
   "execution_count": 6,
   "outputs": []
  },
  {
   "cell_type": "code",
   "source": [
    "show_data(X_train, title=\"train data\")\n",
    "show_data(X_test, title=\"test data\")"
   ],
   "metadata": {
    "execution": {
     "iopub.status.busy": "2022-07-04T15:50:27.043756Z",
     "iopub.execute_input": "2022-07-04T15:50:27.044113Z",
     "iopub.status.idle": "2022-07-04T15:50:28.036574Z",
     "shell.execute_reply.started": "2022-07-04T15:50:27.044080Z",
     "shell.execute_reply": "2022-07-04T15:50:28.035540Z"
    },
    "trusted": true,
    "id": "yDxBZNWZlcxr",
    "pycharm": {
     "name": "#%%\n"
    }
   },
   "execution_count": 7,
   "outputs": [
    {
     "data": {
      "text/plain": "<Figure size 720x216 with 10 Axes>",
      "image/png": "[encoded data removed]"
     },
     "metadata": {
      "needs_background": "light"
     },
     "output_type": "display_data"
    },
    {
     "data": {
      "text/plain": "<Figure size 720x216 with 10 Axes>",
      "image/png": "[encoded data removed]"
     },
     "metadata": {
      "needs_background": "light"
     },
     "output_type": "display_data"
    }
   ]
  },
  {
   "cell_type": "markdown",
   "source": [
    "# *Build the digit Autoencoder*"
   ],
   "metadata": {
    "id": "Hur-pnIjlcxr",
    "pycharm": {
     "name": "#%% md\n"
    }
   }
  },
  {
   "cell_type": "code",
   "source": [
    "# input_dim == output_dim  because we have to regenerate output image\n",
    "# Latent image size is assumed to be 100\n",
    "\n",
    "input_dim, output_dim = 784, 784\n",
    "encode_dim = 100\n",
    "hidden_dim = 256"
   ],
   "metadata": {
    "execution": {
     "iopub.status.busy": "2022-07-04T15:51:54.200072Z",
     "iopub.execute_input": "2022-07-04T15:51:54.200491Z",
     "iopub.status.idle": "2022-07-04T15:51:54.207727Z",
     "shell.execute_reply.started": "2022-07-04T15:51:54.200458Z",
     "shell.execute_reply": "2022-07-04T15:51:54.205859Z"
    },
    "trusted": true,
    "id": "noCcTWf9lcxs",
    "pycharm": {
     "name": "#%%\n"
    }
   },
   "execution_count": 8,
   "outputs": []
  },
  {
   "cell_type": "code",
   "source": [
    "# Here we have named each layer\n",
    "\n",
    "# encoder\n",
    "input_layer = Input(shape=(input_dim,), name=\"INPUT\")\n",
    "hidden_layer_1 = Dense(hidden_dim, activation='relu', name=\"HIDDEN_1\")(input_layer)\n",
    "\n",
    "# code\n",
    "code_layer = Dense(encode_dim, activation='relu', name=\"CODE\")(hidden_layer_1)\n",
    "\n",
    "# decoder\n",
    "hidden_layer_2 = Dense(hidden_dim, activation='relu', name=\"HIDDEN_2\")(code_layer)\n",
    "output_layer = Dense(output_dim, activation='sigmoid', name=\"OUTPUT\")(hidden_layer_2)"
   ],
   "metadata": {
    "execution": {
     "iopub.status.busy": "2022-07-04T15:54:02.515768Z",
     "iopub.execute_input": "2022-07-04T15:54:02.516177Z",
     "iopub.status.idle": "2022-07-04T15:54:05.631071Z",
     "shell.execute_reply.started": "2022-07-04T15:54:02.516142Z",
     "shell.execute_reply": "2022-07-04T15:54:05.630065Z"
    },
    "trusted": true,
    "id": "piDqdZLclcxs",
    "pycharm": {
     "name": "#%%\n"
    }
   },
   "execution_count": 9,
   "outputs": []
  },
  {
   "cell_type": "code",
   "source": [
    "AE = Model(input_layer, output_layer)\n",
    "AE.compile(optimizer='adam', loss='binary_crossentropy')\n",
    "AE.summary()"
   ],
   "metadata": {
    "execution": {
     "iopub.status.busy": "2022-07-04T15:54:05.633414Z",
     "iopub.execute_input": "2022-07-04T15:54:05.633883Z",
     "iopub.status.idle": "2022-07-04T15:54:05.670324Z",
     "shell.execute_reply.started": "2022-07-04T15:54:05.633826Z",
     "shell.execute_reply": "2022-07-04T15:54:05.669314Z"
    },
    "trusted": true,
    "id": "-T0qWOVwlcxs",
    "pycharm": {
     "name": "#%%\n"
    }
   },
   "execution_count": 10,
   "outputs": [
    {
     "name": "stdout",
     "output_type": "stream",
     "text": [
      "Model: \"model\"\n",
      "_________________________________________________________________\n",
      " Layer (type)                Output Shape              Param #   \n",
      "=================================================================\n",
      " INPUT (InputLayer)          [(None, 784)]             0         \n",
      "                                                                 \n",
      " HIDDEN_1 (Dense)            (None, 256)               200960    \n",
      "                                                                 \n",
      " CODE (Dense)                (None, 100)               25700     \n",
      "                                                                 \n",
      " HIDDEN_2 (Dense)            (None, 256)               25856     \n",
      "                                                                 \n",
      " OUTPUT (Dense)              (None, 784)               201488    \n",
      "                                                                 \n",
      "=================================================================\n",
      "Total params: 454,004\n",
      "Trainable params: 454,004\n",
      "Non-trainable params: 0\n",
      "_________________________________________________________________\n"
     ]
    }
   ]
  },
  {
   "cell_type": "markdown",
   "source": [
    "# *Trian the digit Autoencoder*"
   ],
   "metadata": {
    "id": "B2f6z6Hllcxt",
    "pycharm": {
     "name": "#%% md\n"
    }
   }
  },
  {
   "cell_type": "code",
   "source": [
    "AE.fit(X_train, X_train, epochs=10)"
   ],
   "metadata": {
    "execution": {
     "iopub.status.busy": "2022-07-04T15:54:11.977424Z",
     "iopub.execute_input": "2022-07-04T15:54:11.977892Z",
     "iopub.status.idle": "2022-07-04T15:55:23.665745Z",
     "shell.execute_reply.started": "2022-07-04T15:54:11.977860Z",
     "shell.execute_reply": "2022-07-04T15:55:23.664686Z"
    },
    "trusted": true,
    "id": "SRRqPnqJlcxt",
    "pycharm": {
     "name": "#%%\n"
    }
   },
   "execution_count": 11,
   "outputs": [
    {
     "name": "stdout",
     "output_type": "stream",
     "text": [
      "Epoch 1/10\n",
      "1875/1875 [==============================] - 8s 4ms/step - loss: 0.1121\n",
      "Epoch 2/10\n",
      "1875/1875 [==============================] - 7s 4ms/step - loss: 0.0806\n",
      "Epoch 3/10\n",
      "1875/1875 [==============================] - 6s 3ms/step - loss: 0.0759\n",
      "Epoch 4/10\n",
      "1875/1875 [==============================] - 6s 3ms/step - loss: 0.0735\n",
      "Epoch 5/10\n",
      "1875/1875 [==============================] - 6s 3ms/step - loss: 0.0722\n",
      "Epoch 6/10\n",
      "1875/1875 [==============================] - 6s 3ms/step - loss: 0.0712\n",
      "Epoch 7/10\n",
      "1875/1875 [==============================] - 6s 3ms/step - loss: 0.0706\n",
      "Epoch 8/10\n",
      "1875/1875 [==============================] - 6s 3ms/step - loss: 0.0700\n",
      "Epoch 9/10\n",
      "1875/1875 [==============================] - 6s 3ms/step - loss: 0.0696\n",
      "Epoch 10/10\n",
      "1875/1875 [==============================] - 6s 3ms/step - loss: 0.0693\n"
     ]
    },
    {
     "data": {
      "text/plain": "<keras.callbacks.History at 0x16547206170>"
     },
     "execution_count": 11,
     "metadata": {},
     "output_type": "execute_result"
    }
   ]
  },
  {
   "cell_type": "markdown",
   "source": [
    "# *Get the decoded (reconstructed) data*"
   ],
   "metadata": {
    "id": "jxil17kPlcxt",
    "pycharm": {
     "name": "#%% md\n"
    }
   }
  },
  {
   "cell_type": "code",
   "source": [
    "decoded_data = AE.predict(X_test)"
   ],
   "metadata": {
    "execution": {
     "iopub.status.busy": "2022-07-04T15:55:26.749345Z",
     "iopub.execute_input": "2022-07-04T15:55:26.749805Z",
     "iopub.status.idle": "2022-07-04T15:55:27.115667Z",
     "shell.execute_reply.started": "2022-07-04T15:55:26.749774Z",
     "shell.execute_reply": "2022-07-04T15:55:27.114568Z"
    },
    "trusted": true,
    "id": "_vJ0EjPylcxt",
    "pycharm": {
     "name": "#%%\n"
    }
   },
   "execution_count": 12,
   "outputs": [
    {
     "name": "stdout",
     "output_type": "stream",
     "text": [
      "313/313 [==============================] - 1s 3ms/step\n"
     ]
    }
   ]
  },
  {
   "cell_type": "markdown",
   "source": [
    "# *Make a model to get the encoded representation (i.e. intermediate layer output) for a given input.*"
   ],
   "metadata": {
    "id": "l9sIKqUjlcxt",
    "pycharm": {
     "name": "#%% md\n"
    }
   }
  },
  {
   "cell_type": "code",
   "source": [
    "get_encoded_data = Model(inputs=AE.input, outputs=AE.get_layer(\"CODE\").output)"
   ],
   "metadata": {
    "execution": {
     "iopub.status.busy": "2022-07-04T15:55:38.486973Z",
     "iopub.execute_input": "2022-07-04T15:55:38.487348Z",
     "iopub.status.idle": "2022-07-04T15:55:38.494017Z",
     "shell.execute_reply.started": "2022-07-04T15:55:38.487302Z",
     "shell.execute_reply": "2022-07-04T15:55:38.492347Z"
    },
    "trusted": true,
    "id": "uCOzzrmElcxu",
    "pycharm": {
     "name": "#%%\n"
    }
   },
   "execution_count": 13,
   "outputs": []
  },
  {
   "cell_type": "markdown",
   "source": [
    "# *Get the encoded data*"
   ],
   "metadata": {
    "id": "LHIod7lwlcxu",
    "pycharm": {
     "name": "#%% md\n"
    }
   }
  },
  {
   "cell_type": "code",
   "source": [
    "encoded_data = get_encoded_data.predict(X_test)"
   ],
   "metadata": {
    "execution": {
     "iopub.status.busy": "2022-07-04T15:55:48.615277Z",
     "iopub.execute_input": "2022-07-04T15:55:48.615754Z",
     "iopub.status.idle": "2022-07-04T15:55:48.912478Z",
     "shell.execute_reply.started": "2022-07-04T15:55:48.615715Z",
     "shell.execute_reply": "2022-07-04T15:55:48.911489Z"
    },
    "trusted": true,
    "id": "Y9KZQZEBlcxu",
    "pycharm": {
     "name": "#%%\n"
    }
   },
   "execution_count": 14,
   "outputs": [
    {
     "name": "stdout",
     "output_type": "stream",
     "text": [
      "313/313 [==============================] - 1s 2ms/step\n"
     ]
    }
   ]
  },
  {
   "cell_type": "markdown",
   "source": [
    "# *Visualize the results on test set*"
   ],
   "metadata": {
    "id": "vxipw224lcxu",
    "pycharm": {
     "name": "#%% md\n"
    }
   }
  },
  {
   "cell_type": "code",
   "source": [
    "show_data(X_test, title=\"original data\")\n",
    "show_data(encoded_data, height=10, width=10, title=\"encoded data\")\n",
    "show_data(decoded_data, title=\"decoded data\")"
   ],
   "metadata": {
    "execution": {
     "iopub.status.busy": "2022-07-04T15:55:58.682300Z",
     "iopub.execute_input": "2022-07-04T15:55:58.682741Z",
     "iopub.status.idle": "2022-07-04T15:56:00.381592Z",
     "shell.execute_reply.started": "2022-07-04T15:55:58.682710Z",
     "shell.execute_reply": "2022-07-04T15:56:00.380212Z"
    },
    "trusted": true,
    "id": "rf7FkjR4lcxv",
    "pycharm": {
     "name": "#%%\n"
    }
   },
   "execution_count": 15,
   "outputs": [
    {
     "data": {
      "text/plain": "<Figure size 720x216 with 10 Axes>",
      "image/png": "[encoded data removed]"
     },
     "metadata": {
      "needs_background": "light"
     },
     "output_type": "display_data"
    },
    {
     "data": {
      "text/plain": "<Figure size 720x216 with 10 Axes>",
      "image/png": "[encoded data removed]"
     },
     "metadata": {
      "needs_background": "light"
     },
     "output_type": "display_data"
    },
    {
     "data": {
      "text/plain": "<Figure size 720x216 with 10 Axes>",
      "image/png": "[encoded data removed]"
     },
     "metadata": {
      "needs_background": "light"
     },
     "output_type": "display_data"
    }
   ]
  },
  {
   "cell_type": "markdown",
   "source": [
    "---"
   ],
   "metadata": {
    "id": "n9k8AuQ7lcxv",
    "pycharm": {
     "name": "#%% md\n"
    }
   }
  },
  {
   "cell_type": "markdown",
   "source": [
    "> ## >Part 2\n",
    "# *Get the cat images*"
   ],
   "metadata": {
    "id": "TWt5FMVWlcxv",
    "pycharm": {
     "name": "#%% md\n"
    }
   }
  },
  {
   "cell_type": "code",
   "source": [
    "cat_train_path = \"../input/cat-and-dog/training_set/training_set/cats/\"\n",
    "cat_test_path = \"../input/cat-and-dog/test_set/test_set/cats/\"\n",
    "\n",
    "cat_train = []\n",
    "for filename in os.listdir(cat_train_path):\n",
    "    if filename.endswith(\".jpg\"):\n",
    "        img = image.load_img(cat_train_path+filename, target_size=(128, 128))\n",
    "        cat_train.append(image.img_to_array(img))\n",
    "cat_train = np.array(cat_train)\n",
    "\n",
    "cat_test = []\n",
    "for filename in os.listdir(cat_test_path):\n",
    "    if filename.endswith(\".jpg\"):\n",
    "        img = image.load_img(cat_test_path+filename, target_size=(128, 128))\n",
    "        cat_test.append(image.img_to_array(img))\n",
    "cat_test = np.array(cat_test)"
   ],
   "metadata": {
    "execution": {
     "iopub.status.busy": "2022-07-04T13:38:22.072962Z",
     "iopub.execute_input": "2022-07-04T13:38:22.073313Z",
     "iopub.status.idle": "2022-07-04T13:39:18.110273Z",
     "shell.execute_reply.started": "2022-07-04T13:38:22.073281Z",
     "shell.execute_reply": "2022-07-04T13:39:18.109282Z"
    },
    "trusted": true,
    "id": "HihQk5T4lcxv",
    "pycharm": {
     "name": "#%%\n"
    }
   },
   "execution_count": 16,
   "outputs": [
    {
     "ename": "FileNotFoundError",
     "evalue": "[WinError 3] The system cannot find the path specified: '../input/cat-and-dog/training_set/training_set/cats/'",
     "output_type": "error",
     "traceback": [
      "\u001B[1;31m---------------------------------------------------------------------------\u001B[0m",
      "\u001B[1;31mFileNotFoundError\u001B[0m                         Traceback (most recent call last)",
      "Input \u001B[1;32mIn [16]\u001B[0m, in \u001B[0;36m<cell line: 5>\u001B[1;34m()\u001B[0m\n\u001B[0;32m      2\u001B[0m cat_test_path \u001B[38;5;241m=\u001B[39m \u001B[38;5;124m\"\u001B[39m\u001B[38;5;124m../input/cat-and-dog/test_set/test_set/cats/\u001B[39m\u001B[38;5;124m\"\u001B[39m\n\u001B[0;32m      4\u001B[0m cat_train \u001B[38;5;241m=\u001B[39m []\n\u001B[1;32m----> 5\u001B[0m \u001B[38;5;28;01mfor\u001B[39;00m filename \u001B[38;5;129;01min\u001B[39;00m \u001B[43mos\u001B[49m\u001B[38;5;241;43m.\u001B[39;49m\u001B[43mlistdir\u001B[49m\u001B[43m(\u001B[49m\u001B[43mcat_train_path\u001B[49m\u001B[43m)\u001B[49m:\n\u001B[0;32m      6\u001B[0m     \u001B[38;5;28;01mif\u001B[39;00m filename\u001B[38;5;241m.\u001B[39mendswith(\u001B[38;5;124m\"\u001B[39m\u001B[38;5;124m.jpg\u001B[39m\u001B[38;5;124m\"\u001B[39m):\n\u001B[0;32m      7\u001B[0m         img \u001B[38;5;241m=\u001B[39m image\u001B[38;5;241m.\u001B[39mload_img(cat_train_path\u001B[38;5;241m+\u001B[39mfilename, target_size\u001B[38;5;241m=\u001B[39m(\u001B[38;5;241m128\u001B[39m, \u001B[38;5;241m128\u001B[39m))\n",
      "\u001B[1;31mFileNotFoundError\u001B[0m: [WinError 3] The system cannot find the path specified: '../input/cat-and-dog/training_set/training_set/cats/'"
     ]
    }
   ]
  },
  {
   "cell_type": "markdown",
   "source": [
    "# *Visualize the cats*"
   ],
   "metadata": {
    "id": "L0oqSd7Mlcxw",
    "pycharm": {
     "name": "#%% md\n"
    }
   }
  },
  {
   "cell_type": "code",
   "source": [
    "def show_cat_data(X, n=10, title=\"\"):\n",
    "    plt.figure(figsize=(15, 5))\n",
    "    for i in range(n):\n",
    "        ax = plt.subplot(2,n,i+1)\n",
    "        plt.imshow(image.array_to_img(X[i]))\n",
    "        ax.get_xaxis().set_visible(False)\n",
    "        ax.get_yaxis().set_visible(False)\n",
    "    plt.suptitle(title, fontsize = 20)"
   ],
   "metadata": {
    "execution": {
     "iopub.status.busy": "2022-07-04T13:39:18.119828Z",
     "iopub.execute_input": "2022-07-04T13:39:18.120472Z",
     "iopub.status.idle": "2022-07-04T13:39:18.129664Z",
     "shell.execute_reply.started": "2022-07-04T13:39:18.120431Z",
     "shell.execute_reply": "2022-07-04T13:39:18.128637Z"
    },
    "trusted": true,
    "id": "G98K88Iqlcxw",
    "pycharm": {
     "name": "#%%\n"
    }
   },
   "execution_count": null,
   "outputs": []
  },
  {
   "cell_type": "code",
   "source": [
    "show_cat_data(cat_train, title=\"train cats\")\n",
    "show_cat_data(cat_test, title=\"test cats\")"
   ],
   "metadata": {
    "execution": {
     "iopub.status.busy": "2022-07-04T13:39:35.786536Z",
     "iopub.execute_input": "2022-07-04T13:39:35.786877Z",
     "iopub.status.idle": "2022-07-04T13:39:36.549037Z",
     "shell.execute_reply.started": "2022-07-04T13:39:35.786847Z",
     "shell.execute_reply": "2022-07-04T13:39:36.548094Z"
    },
    "trusted": true,
    "id": "7AlGJ92Glcxx",
    "pycharm": {
     "name": "#%%\n"
    }
   },
   "execution_count": null,
   "outputs": []
  },
  {
   "cell_type": "markdown",
   "source": [
    "# *Build the cat Autoencoder*"
   ],
   "metadata": {
    "id": "nJ7KWDZalcxx",
    "pycharm": {
     "name": "#%% md\n"
    }
   }
  },
  {
   "cell_type": "code",
   "source": [
    "input_layer = Input(shape=(128, 128, 3), name=\"INPUT\")\n",
    "x = Conv2D(16, (3, 3), activation='relu', padding='same')(input_layer)\n",
    "x = MaxPooling2D((2, 2))(x)\n",
    "x = Conv2D(8, (3, 3), activation='relu', padding='same')(x)\n",
    "x = MaxPooling2D((2, 2))(x)\n",
    "x = Conv2D(8, (3, 3), activation='relu', padding='same')(x)\n",
    "\n",
    "code_layer = MaxPooling2D((2, 2), name=\"CODE\")(x)\n",
    "\n",
    "x = Conv2DTranspose(8, (3, 3), activation='relu', padding='same')(code_layer)\n",
    "x = UpSampling2D((2, 2))(x)\n",
    "x = Conv2DTranspose(8, (3, 3), activation='relu', padding='same')(x)\n",
    "x = UpSampling2D((2, 2))(x)\n",
    "x = Conv2DTranspose(16, (3, 3), activation='relu', padding='same')(x)\n",
    "x = UpSampling2D((2,2))(x)\n",
    "output_layer = Conv2D(3, (3, 3), padding='same', name=\"OUTPUT\")(x)"
   ],
   "metadata": {
    "execution": {
     "iopub.status.busy": "2022-07-04T13:39:44.117971Z",
     "iopub.execute_input": "2022-07-04T13:39:44.118299Z",
     "iopub.status.idle": "2022-07-04T13:39:44.213488Z",
     "shell.execute_reply.started": "2022-07-04T13:39:44.118268Z",
     "shell.execute_reply": "2022-07-04T13:39:44.212758Z"
    },
    "trusted": true,
    "id": "eO_3w5TQlcxx",
    "pycharm": {
     "name": "#%%\n"
    }
   },
   "execution_count": null,
   "outputs": []
  },
  {
   "cell_type": "code",
   "source": [
    "cat_AE = Model(input_layer, output_layer)\n",
    "cat_AE.compile(optimizer='adam', loss='mse')\n",
    "cat_AE.summary()"
   ],
   "metadata": {
    "execution": {
     "iopub.status.busy": "2022-07-04T13:39:49.565789Z",
     "iopub.execute_input": "2022-07-04T13:39:49.566238Z",
     "iopub.status.idle": "2022-07-04T13:39:49.611632Z",
     "shell.execute_reply.started": "2022-07-04T13:39:49.566191Z",
     "shell.execute_reply": "2022-07-04T13:39:49.608032Z"
    },
    "trusted": true,
    "id": "bjfNZb9hlcxy",
    "pycharm": {
     "name": "#%%\n"
    }
   },
   "execution_count": null,
   "outputs": []
  },
  {
   "cell_type": "markdown",
   "source": [
    "# *Train the cat Autoencoder*"
   ],
   "metadata": {
    "id": "KEba5AXtlcxy",
    "pycharm": {
     "name": "#%% md\n"
    }
   }
  },
  {
   "cell_type": "code",
   "source": [
    "cat_AE.fit(cat_train, cat_train,\n",
    "                epochs=30,\n",
    "                batch_size=32,\n",
    "                shuffle=True,\n",
    "                validation_data=(cat_test, cat_test))"
   ],
   "metadata": {
    "execution": {
     "iopub.status.busy": "2022-07-04T13:39:56.913206Z",
     "iopub.execute_input": "2022-07-04T13:39:56.913530Z",
     "iopub.status.idle": "2022-07-04T13:41:14.327682Z",
     "shell.execute_reply.started": "2022-07-04T13:39:56.913499Z",
     "shell.execute_reply": "2022-07-04T13:41:14.326873Z"
    },
    "trusted": true,
    "id": "rmCtTsGxlcxy",
    "pycharm": {
     "name": "#%%\n"
    }
   },
   "execution_count": null,
   "outputs": []
  },
  {
   "cell_type": "markdown",
   "source": [
    "# *Save model*"
   ],
   "metadata": {
    "id": "s8ztfPehlcxz",
    "pycharm": {
     "name": "#%% md\n"
    }
   }
  },
  {
   "cell_type": "code",
   "source": [
    "cat_AE.save(\"cat_AE.h5\")"
   ],
   "metadata": {
    "execution": {
     "iopub.status.busy": "2022-07-04T13:41:14.330567Z",
     "iopub.execute_input": "2022-07-04T13:41:14.330847Z",
     "iopub.status.idle": "2022-07-04T13:41:14.388000Z",
     "shell.execute_reply.started": "2022-07-04T13:41:14.330818Z",
     "shell.execute_reply": "2022-07-04T13:41:14.387349Z"
    },
    "trusted": true,
    "id": "eJ9Zgabulcxz",
    "pycharm": {
     "name": "#%%\n"
    }
   },
   "execution_count": null,
   "outputs": []
  },
  {
   "cell_type": "markdown",
   "source": [
    "# *Make a model to get the encoded representation (i.e. intermediate layer output) for a given cat image.*"
   ],
   "metadata": {
    "id": "JfNE2CRklcxz",
    "pycharm": {
     "name": "#%% md\n"
    }
   }
  },
  {
   "cell_type": "code",
   "source": [
    "get_encoded_cat = Model(inputs=cat_AE.input, outputs=cat_AE.get_layer(\"CODE\").output)"
   ],
   "metadata": {
    "execution": {
     "iopub.status.busy": "2022-07-04T13:41:14.389357Z",
     "iopub.execute_input": "2022-07-04T13:41:14.389683Z",
     "iopub.status.idle": "2022-07-04T13:41:14.395104Z",
     "shell.execute_reply.started": "2022-07-04T13:41:14.389638Z",
     "shell.execute_reply": "2022-07-04T13:41:14.394058Z"
    },
    "trusted": true,
    "id": "tFWVBHrolcxz",
    "pycharm": {
     "name": "#%%\n"
    }
   },
   "execution_count": null,
   "outputs": []
  },
  {
   "cell_type": "markdown",
   "source": [
    "# *Get the encoded cats*"
   ],
   "metadata": {
    "id": "xEfDC1NHlcx0",
    "pycharm": {
     "name": "#%% md\n"
    }
   }
  },
  {
   "cell_type": "code",
   "source": [
    "encoded_cat = get_encoded_cat.predict(cat_test)\n",
    "encoded_cat = encoded_cat.reshape((len(cat_test), 16*16*8))\n",
    "encoded_cat.shape"
   ],
   "metadata": {
    "execution": {
     "iopub.status.busy": "2022-07-04T13:41:14.396550Z",
     "iopub.execute_input": "2022-07-04T13:41:14.397161Z",
     "iopub.status.idle": "2022-07-04T13:41:14.564258Z",
     "shell.execute_reply.started": "2022-07-04T13:41:14.397124Z",
     "shell.execute_reply": "2022-07-04T13:41:14.563280Z"
    },
    "trusted": true,
    "id": "ckQisgDmlcx0",
    "pycharm": {
     "name": "#%%\n"
    }
   },
   "execution_count": null,
   "outputs": []
  },
  {
   "cell_type": "markdown",
   "source": [
    "# *Get the reconstructed cats*"
   ],
   "metadata": {
    "id": "qjiYmfVGlcx0",
    "pycharm": {
     "name": "#%% md\n"
    }
   }
  },
  {
   "cell_type": "code",
   "source": [
    "reconstructed_cats = cat_AE.predict(cat_test)"
   ],
   "metadata": {
    "execution": {
     "iopub.status.busy": "2022-07-04T13:41:14.566144Z",
     "iopub.execute_input": "2022-07-04T13:41:14.566521Z",
     "iopub.status.idle": "2022-07-04T13:41:15.046187Z",
     "shell.execute_reply.started": "2022-07-04T13:41:14.566483Z",
     "shell.execute_reply": "2022-07-04T13:41:15.045357Z"
    },
    "trusted": true,
    "id": "atK-rTXElcx1",
    "pycharm": {
     "name": "#%%\n"
    }
   },
   "execution_count": null,
   "outputs": []
  },
  {
   "cell_type": "markdown",
   "source": [
    "# *Visualize the results on test set*"
   ],
   "metadata": {
    "id": "_O-eod1clcx1",
    "pycharm": {
     "name": "#%% md\n"
    }
   }
  },
  {
   "cell_type": "code",
   "source": [
    "show_cat_data(cat_test, title=\"original cats\")\n",
    "show_data(encoded_cat, height=32, width=64, title=\"encoded cats\")\n",
    "show_cat_data(reconstructed_cats, title=\"reconstructed cats\")"
   ],
   "metadata": {
    "execution": {
     "iopub.status.busy": "2022-07-04T13:41:21.608701Z",
     "iopub.execute_input": "2022-07-04T13:41:21.609026Z",
     "iopub.status.idle": "2022-07-04T13:41:22.800911Z",
     "shell.execute_reply.started": "2022-07-04T13:41:21.608994Z",
     "shell.execute_reply": "2022-07-04T13:41:22.800086Z"
    },
    "trusted": true,
    "id": "A8FBytEFlcx1",
    "pycharm": {
     "name": "#%%\n"
    }
   },
   "execution_count": null,
   "outputs": []
  },
  {
   "cell_type": "markdown",
   "source": [
    "---"
   ],
   "metadata": {
    "id": "8BO12d2klcx1",
    "pycharm": {
     "name": "#%% md\n"
    }
   }
  },
  {
   "cell_type": "markdown",
   "source": [
    "# *If you liked this notebook please visit my channel [Normalized Nerd](http://youtube.com/NormalizedNerd) ❤️*"
   ],
   "metadata": {
    "collapsed": false,
    "pycharm": {
     "name": "#%% md\n"
    }
   }
  },
  {
   "cell_type": "code",
   "execution_count": null,
   "outputs": [],
   "source": [],
   "metadata": {
    "collapsed": false,
    "pycharm": {
     "name": "#%%\n"
    }
   }
  },
  {
   "cell_type": "code",
   "execution_count": null,
   "outputs": [],
   "source": [],
   "metadata": {
    "collapsed": false,
    "pycharm": {
     "name": "#%%\n"
    }
   }
  },
  {
   "cell_type": "code",
   "execution_count": null,
   "outputs": [],
   "source": [],
   "metadata": {
    "collapsed": false,
    "pycharm": {
     "name": "#%%\n"
    }
   }
  }
 ]
}