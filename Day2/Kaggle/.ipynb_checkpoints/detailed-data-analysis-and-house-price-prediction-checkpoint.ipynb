{
 "cells": [
  {
   "cell_type": "markdown",
   "metadata": {},
   "source": [
    "# House price Prediction\n",
    "In this notebook I tried to bring detailed data analysis and some simple yet complex regression techniques. I hope you guys enjoy my analysis here."
   ]
  },
  {
   "cell_type": "markdown",
   "metadata": {},
   "source": [
    "In the first few cells I imported all necessary libraies and explored our train and test dataset."
   ]
  },
  {
   "cell_type": "code",
   "execution_count": 1,
   "metadata": {
    "execution": {
     "iopub.execute_input": "2022-06-20T12:57:45.070349Z",
     "iopub.status.busy": "2022-06-20T12:57:45.069829Z",
     "iopub.status.idle": "2022-06-20T12:57:45.076031Z",
     "shell.execute_reply": "2022-06-20T12:57:45.074763Z",
     "shell.execute_reply.started": "2022-06-20T12:57:45.070299Z"
    }
   },
   "outputs": [],
   "source": [
    "import pandas as pd\n",
    "import numpy as np\n",
    "import matplotlib.pyplot as plt"
   ]
  },
  {
   "cell_type": "code",
   "execution_count": 3,
   "metadata": {
    "execution": {
     "iopub.execute_input": "2022-06-20T12:59:31.187463Z",
     "iopub.status.busy": "2022-06-20T12:59:31.187049Z",
     "iopub.status.idle": "2022-06-20T12:59:31.259551Z",
     "shell.execute_reply": "2022-06-20T12:59:31.258591Z",
     "shell.execute_reply.started": "2022-06-20T12:59:31.187432Z"
    }
   },
   "outputs": [
    {
     "data": {
      "text/html": [
       "<div>\n",
       "<style scoped>\n",
       "    .dataframe tbody tr th:only-of-type {\n",
       "        vertical-align: middle;\n",
       "    }\n",
       "\n",
       "    .dataframe tbody tr th {\n",
       "        vertical-align: top;\n",
       "    }\n",
       "\n",
       "    .dataframe thead th {\n",
       "        text-align: right;\n",
       "    }\n",
       "</style>\n",
       "<table border=\"1\" class=\"dataframe\">\n",
       "  <thead>\n",
       "    <tr style=\"text-align: right;\">\n",
       "      <th></th>\n",
       "      <th>Id</th>\n",
       "      <th>MSSubClass</th>\n",
       "      <th>MSZoning</th>\n",
       "      <th>LotFrontage</th>\n",
       "      <th>LotArea</th>\n",
       "      <th>Street</th>\n",
       "      <th>Alley</th>\n",
       "      <th>LotShape</th>\n",
       "      <th>LandContour</th>\n",
       "      <th>Utilities</th>\n",
       "      <th>...</th>\n",
       "      <th>PoolArea</th>\n",
       "      <th>PoolQC</th>\n",
       "      <th>Fence</th>\n",
       "      <th>MiscFeature</th>\n",
       "      <th>MiscVal</th>\n",
       "      <th>MoSold</th>\n",
       "      <th>YrSold</th>\n",
       "      <th>SaleType</th>\n",
       "      <th>SaleCondition</th>\n",
       "      <th>SalePrice</th>\n",
       "    </tr>\n",
       "  </thead>\n",
       "  <tbody>\n",
       "    <tr>\n",
       "      <th>0</th>\n",
       "      <td>1</td>\n",
       "      <td>60</td>\n",
       "      <td>RL</td>\n",
       "      <td>65.0</td>\n",
       "      <td>8450</td>\n",
       "      <td>Pave</td>\n",
       "      <td>NaN</td>\n",
       "      <td>Reg</td>\n",
       "      <td>Lvl</td>\n",
       "      <td>AllPub</td>\n",
       "      <td>...</td>\n",
       "      <td>0</td>\n",
       "      <td>NaN</td>\n",
       "      <td>NaN</td>\n",
       "      <td>NaN</td>\n",
       "      <td>0</td>\n",
       "      <td>2</td>\n",
       "      <td>2008</td>\n",
       "      <td>WD</td>\n",
       "      <td>Normal</td>\n",
       "      <td>208500</td>\n",
       "    </tr>\n",
       "    <tr>\n",
       "      <th>1</th>\n",
       "      <td>2</td>\n",
       "      <td>20</td>\n",
       "      <td>RL</td>\n",
       "      <td>80.0</td>\n",
       "      <td>9600</td>\n",
       "      <td>Pave</td>\n",
       "      <td>NaN</td>\n",
       "      <td>Reg</td>\n",
       "      <td>Lvl</td>\n",
       "      <td>AllPub</td>\n",
       "      <td>...</td>\n",
       "      <td>0</td>\n",
       "      <td>NaN</td>\n",
       "      <td>NaN</td>\n",
       "      <td>NaN</td>\n",
       "      <td>0</td>\n",
       "      <td>5</td>\n",
       "      <td>2007</td>\n",
       "      <td>WD</td>\n",
       "      <td>Normal</td>\n",
       "      <td>181500</td>\n",
       "    </tr>\n",
       "    <tr>\n",
       "      <th>2</th>\n",
       "      <td>3</td>\n",
       "      <td>60</td>\n",
       "      <td>RL</td>\n",
       "      <td>68.0</td>\n",
       "      <td>11250</td>\n",
       "      <td>Pave</td>\n",
       "      <td>NaN</td>\n",
       "      <td>IR1</td>\n",
       "      <td>Lvl</td>\n",
       "      <td>AllPub</td>\n",
       "      <td>...</td>\n",
       "      <td>0</td>\n",
       "      <td>NaN</td>\n",
       "      <td>NaN</td>\n",
       "      <td>NaN</td>\n",
       "      <td>0</td>\n",
       "      <td>9</td>\n",
       "      <td>2008</td>\n",
       "      <td>WD</td>\n",
       "      <td>Normal</td>\n",
       "      <td>223500</td>\n",
       "    </tr>\n",
       "    <tr>\n",
       "      <th>3</th>\n",
       "      <td>4</td>\n",
       "      <td>70</td>\n",
       "      <td>RL</td>\n",
       "      <td>60.0</td>\n",
       "      <td>9550</td>\n",
       "      <td>Pave</td>\n",
       "      <td>NaN</td>\n",
       "      <td>IR1</td>\n",
       "      <td>Lvl</td>\n",
       "      <td>AllPub</td>\n",
       "      <td>...</td>\n",
       "      <td>0</td>\n",
       "      <td>NaN</td>\n",
       "      <td>NaN</td>\n",
       "      <td>NaN</td>\n",
       "      <td>0</td>\n",
       "      <td>2</td>\n",
       "      <td>2006</td>\n",
       "      <td>WD</td>\n",
       "      <td>Abnorml</td>\n",
       "      <td>140000</td>\n",
       "    </tr>\n",
       "    <tr>\n",
       "      <th>4</th>\n",
       "      <td>5</td>\n",
       "      <td>60</td>\n",
       "      <td>RL</td>\n",
       "      <td>84.0</td>\n",
       "      <td>14260</td>\n",
       "      <td>Pave</td>\n",
       "      <td>NaN</td>\n",
       "      <td>IR1</td>\n",
       "      <td>Lvl</td>\n",
       "      <td>AllPub</td>\n",
       "      <td>...</td>\n",
       "      <td>0</td>\n",
       "      <td>NaN</td>\n",
       "      <td>NaN</td>\n",
       "      <td>NaN</td>\n",
       "      <td>0</td>\n",
       "      <td>12</td>\n",
       "      <td>2008</td>\n",
       "      <td>WD</td>\n",
       "      <td>Normal</td>\n",
       "      <td>250000</td>\n",
       "    </tr>\n",
       "  </tbody>\n",
       "</table>\n",
       "<p>5 rows × 81 columns</p>\n",
       "</div>"
      ],
      "text/plain": [
       "   Id  MSSubClass MSZoning  LotFrontage  LotArea Street Alley LotShape  \\\n",
       "0   1          60       RL         65.0     8450   Pave   NaN      Reg   \n",
       "1   2          20       RL         80.0     9600   Pave   NaN      Reg   \n",
       "2   3          60       RL         68.0    11250   Pave   NaN      IR1   \n",
       "3   4          70       RL         60.0     9550   Pave   NaN      IR1   \n",
       "4   5          60       RL         84.0    14260   Pave   NaN      IR1   \n",
       "\n",
       "  LandContour Utilities  ... PoolArea PoolQC Fence MiscFeature MiscVal MoSold  \\\n",
       "0         Lvl    AllPub  ...        0    NaN   NaN         NaN       0      2   \n",
       "1         Lvl    AllPub  ...        0    NaN   NaN         NaN       0      5   \n",
       "2         Lvl    AllPub  ...        0    NaN   NaN         NaN       0      9   \n",
       "3         Lvl    AllPub  ...        0    NaN   NaN         NaN       0      2   \n",
       "4         Lvl    AllPub  ...        0    NaN   NaN         NaN       0     12   \n",
       "\n",
       "  YrSold  SaleType  SaleCondition  SalePrice  \n",
       "0   2008        WD         Normal     208500  \n",
       "1   2007        WD         Normal     181500  \n",
       "2   2008        WD         Normal     223500  \n",
       "3   2006        WD        Abnorml     140000  \n",
       "4   2008        WD         Normal     250000  \n",
       "\n",
       "[5 rows x 81 columns]"
      ]
     },
     "execution_count": 3,
     "metadata": {},
     "output_type": "execute_result"
    }
   ],
   "source": [
    "training_dataset = pd.read_csv('train.csv')\n",
    "testing_dataset = pd.read_csv('test.csv')\n",
    "training_dataset.head()"
   ]
  },
  {
   "cell_type": "code",
   "execution_count": 40,
   "metadata": {
    "execution": {
     "iopub.execute_input": "2022-06-20T13:00:07.171075Z",
     "iopub.status.busy": "2022-06-20T13:00:07.170582Z",
     "iopub.status.idle": "2022-06-20T13:00:07.177152Z",
     "shell.execute_reply": "2022-06-20T13:00:07.176328Z",
     "shell.execute_reply.started": "2022-06-20T13:00:07.171039Z"
    }
   },
   "outputs": [],
   "source": [
    "training_dataset.shape"
   ]
  },
  {
   "cell_type": "code",
   "execution_count": 41,
   "metadata": {
    "execution": {
     "iopub.execute_input": "2022-06-20T13:00:59.376498Z",
     "iopub.status.busy": "2022-06-20T13:00:59.376009Z",
     "iopub.status.idle": "2022-06-20T13:00:59.393858Z",
     "shell.execute_reply": "2022-06-20T13:00:59.392559Z",
     "shell.execute_reply.started": "2022-06-20T13:00:59.376444Z"
    }
   },
   "outputs": [],
   "source": [
    "train.SalePrice.describe()"
   ]
  },
  {
   "cell_type": "code",
   "execution_count": 43,
   "metadata": {
    "execution": {
     "iopub.execute_input": "2022-06-20T13:02:51.890565Z",
     "iopub.status.busy": "2022-06-20T13:02:51.889956Z",
     "iopub.status.idle": "2022-06-20T13:02:52.129838Z",
     "shell.execute_reply": "2022-06-20T13:02:52.128542Z",
     "shell.execute_reply.started": "2022-06-20T13:02:51.890511Z"
    }
   },
   "outputs": [],
   "source": [
    "plt.hist(training_dataset.SalePrice,color='Red')\n",
    "plt.show()"
   ]
  },
  {
   "cell_type": "code",
   "execution_count": 44,
   "metadata": {
    "execution": {
     "iopub.execute_input": "2022-06-20T13:05:21.984472Z",
     "iopub.status.busy": "2022-06-20T13:05:21.984010Z",
     "iopub.status.idle": "2022-06-20T13:05:22.182663Z",
     "shell.execute_reply": "2022-06-20T13:05:22.181423Z",
     "shell.execute_reply.started": "2022-06-20T13:05:21.984429Z"
    }
   },
   "outputs": [],
   "source": [
    "target =np.log(training_dataset.SalePrice)\n",
    "plt.hist(target,color='Blue')\n",
    "plt.show()"
   ]
  },
  {
   "cell_type": "code",
   "execution_count": 47,
   "metadata": {
    "execution": {
     "iopub.execute_input": "2022-06-20T13:14:30.255151Z",
     "iopub.status.busy": "2022-06-20T13:14:30.254753Z",
     "iopub.status.idle": "2022-06-20T13:14:30.266904Z",
     "shell.execute_reply": "2022-06-20T13:14:30.265791Z",
     "shell.execute_reply.started": "2022-06-20T13:14:30.255121Z"
    }
   },
   "outputs": [],
   "source": [
    "numeric_features=training_dataset.select_dtypes(include=[np.number])\n",
    "numeric_features.dtypes\n"
   ]
  },
  {
   "cell_type": "code",
   "execution_count": 49,
   "metadata": {
    "execution": {
     "iopub.execute_input": "2022-06-20T13:18:49.243996Z",
     "iopub.status.busy": "2022-06-20T13:18:49.243599Z",
     "iopub.status.idle": "2022-06-20T13:18:49.265730Z",
     "shell.execute_reply": "2022-06-20T13:18:49.264305Z",
     "shell.execute_reply.started": "2022-06-20T13:18:49.243965Z"
    }
   },
   "outputs": [],
   "source": [
    "corr=numeric_features.corr()\n",
    "print(corr['SalePrice'].sort_values(ascending=False)[:5],'\\n')\n",
    "print(corr['SalePrice'].sort_values(ascending=False)[-5:],'\\n')\n"
   ]
  },
  {
   "cell_type": "code",
   "execution_count": 55,
   "metadata": {
    "execution": {
     "iopub.execute_input": "2022-06-20T13:29:59.137505Z",
     "iopub.status.busy": "2022-06-20T13:29:59.137031Z",
     "iopub.status.idle": "2022-06-20T13:29:59.376068Z",
     "shell.execute_reply": "2022-06-20T13:29:59.374816Z",
     "shell.execute_reply.started": "2022-06-20T13:29:59.137450Z"
    }
   },
   "outputs": [],
   "source": [
    "quality_pivot=training_dataset.pivot_table(index='OverallQual',values='SalePrice', aggfunc=np.median)\n",
    "quality_pivot.plot(kind='bar', color='blue')\n",
    "\n",
    "plt.xlabel('Overall Quality')\n",
    "plt.xlabel('Median Sale Price')\n",
    "plt.xticks(rotation=0)\n",
    "plt.show()\n",
    "\n"
   ]
  },
  {
   "cell_type": "code",
   "execution_count": 58,
   "metadata": {
    "execution": {
     "iopub.execute_input": "2022-06-20T13:39:29.672343Z",
     "iopub.status.busy": "2022-06-20T13:39:29.671584Z",
     "iopub.status.idle": "2022-06-20T13:39:29.871351Z",
     "shell.execute_reply": "2022-06-20T13:39:29.870363Z",
     "shell.execute_reply.started": "2022-06-20T13:39:29.672295Z"
    }
   },
   "outputs": [],
   "source": [
    "plt.scatter(x=training_dataset['GrLivArea'], y=np.log(training_dataset['SalePrice']))\n",
    "plt.ylabel('Sale Price')\n",
    "plt.xlabel('Above Grade Living area square feet')\n",
    "\n",
    "plt.show()\n"
   ]
  },
  {
   "cell_type": "code",
   "execution_count": 59,
   "metadata": {
    "execution": {
     "iopub.execute_input": "2022-06-20T13:40:17.147354Z",
     "iopub.status.busy": "2022-06-20T13:40:17.146919Z",
     "iopub.status.idle": "2022-06-20T13:40:17.351323Z",
     "shell.execute_reply": "2022-06-20T13:40:17.350162Z",
     "shell.execute_reply.started": "2022-06-20T13:40:17.147320Z"
    }
   },
   "outputs": [],
   "source": [
    "plt.scatter(x=training_dataset['GarageArea'], y=np.log(training_dataset['SalePrice']))\n",
    "plt.ylabel('Sale Price')\n",
    "plt.xlabel('Garage Area')\n",
    "\n",
    "plt.show()\n"
   ]
  },
  {
   "cell_type": "code",
   "execution_count": 65,
   "metadata": {
    "execution": {
     "iopub.execute_input": "2022-06-20T13:46:58.479684Z",
     "iopub.status.busy": "2022-06-20T13:46:58.479194Z",
     "iopub.status.idle": "2022-06-20T13:46:58.703142Z",
     "shell.execute_reply": "2022-06-20T13:46:58.702020Z",
     "shell.execute_reply.started": "2022-06-20T13:46:58.479648Z"
    }
   },
   "outputs": [],
   "source": [
    "training_dataset=training_dataset[training_dataset['GarageArea']< 1200]\n",
    "\n",
    "plt.scatter(x=training_dataset['GarageArea'], y=np.log(training_dataset.SalePrice))\n",
    "\n",
    "plt.xlim(-200,1600)\n",
    "plt.ylabel('Sale Price')\n",
    "plt.xlabel('Garage Area')\n",
    "\n",
    "plt.show()\n",
    "\n"
   ]
  },
  {
   "cell_type": "code",
   "execution_count": 68,
   "metadata": {
    "execution": {
     "iopub.execute_input": "2022-06-20T13:50:35.736784Z",
     "iopub.status.busy": "2022-06-20T13:50:35.736364Z",
     "iopub.status.idle": "2022-06-20T13:50:35.758090Z",
     "shell.execute_reply": "2022-06-20T13:50:35.756878Z",
     "shell.execute_reply.started": "2022-06-20T13:50:35.736752Z"
    }
   },
   "outputs": [],
   "source": [
    "nulls=pd.DataFrame(training_dataset.isnull().sum().sort_values(ascending=False)[:25])\n",
    "nulls.columns=['Null Count']\n",
    "nulls.index.name='Feature'\n",
    "nulls\n"
   ]
  },
  {
   "cell_type": "code",
   "execution_count": 69,
   "metadata": {
    "execution": {
     "iopub.execute_input": "2022-06-20T13:52:51.821934Z",
     "iopub.status.busy": "2022-06-20T13:52:51.821521Z",
     "iopub.status.idle": "2022-06-20T13:52:51.916072Z",
     "shell.execute_reply": "2022-06-20T13:52:51.915361Z",
     "shell.execute_reply.started": "2022-06-20T13:52:51.821903Z"
    }
   },
   "outputs": [],
   "source": [
    "categoricals=training_dataset.select_dtypes(exclude=[np.number])\n",
    "\n",
    "categoricals.describe()"
   ]
  },
  {
   "cell_type": "code",
   "execution_count": 73,
   "metadata": {
    "execution": {
     "iopub.execute_input": "2022-06-20T14:01:59.673822Z",
     "iopub.status.busy": "2022-06-20T14:01:59.673410Z",
     "iopub.status.idle": "2022-06-20T14:01:59.689596Z",
     "shell.execute_reply": "2022-06-20T14:01:59.688680Z",
     "shell.execute_reply.started": "2022-06-20T14:01:59.673792Z"
    }
   },
   "outputs": [],
   "source": [
    "data= training_dataset.select_dtypes(include=[np.number]).interpolate().dropna()\n",
    "\n",
    "sum(data.isnull().sum()!=0)\n"
   ]
  },
  {
   "cell_type": "code",
   "execution_count": 75,
   "metadata": {
    "execution": {
     "iopub.execute_input": "2022-06-20T14:05:37.924095Z",
     "iopub.status.busy": "2022-06-20T14:05:37.923432Z",
     "iopub.status.idle": "2022-06-20T14:05:37.931797Z",
     "shell.execute_reply": "2022-06-20T14:05:37.931046Z",
     "shell.execute_reply.started": "2022-06-20T14:05:37.924051Z"
    }
   },
   "outputs": [],
   "source": [
    "y=np.log(training_dataset.SalePrice)\n",
    "X=data.drop(['SalePrice', 'Id'],axis=1)\n",
    "\n"
   ]
  },
  {
   "cell_type": "code",
   "execution_count": 76,
   "metadata": {
    "execution": {
     "iopub.execute_input": "2022-06-20T14:07:45.107585Z",
     "iopub.status.busy": "2022-06-20T14:07:45.107108Z",
     "iopub.status.idle": "2022-06-20T14:07:45.115794Z",
     "shell.execute_reply": "2022-06-20T14:07:45.114809Z",
     "shell.execute_reply.started": "2022-06-20T14:07:45.107548Z"
    }
   },
   "outputs": [],
   "source": [
    "X_train, X_test, y_train, y_test = train_test_split(X, y, train_size=0.8, random_state=44, shuffle =True)"
   ]
  },
  {
   "cell_type": "code",
   "execution_count": 77,
   "metadata": {
    "execution": {
     "iopub.execute_input": "2022-06-20T14:09:20.589700Z",
     "iopub.status.busy": "2022-06-20T14:09:20.589310Z",
     "iopub.status.idle": "2022-06-20T14:09:20.621437Z",
     "shell.execute_reply": "2022-06-20T14:09:20.620304Z",
     "shell.execute_reply.started": "2022-06-20T14:09:20.589670Z"
    }
   },
   "outputs": [],
   "source": [
    "from sklearn.linear_model import LinearRegression\n",
    "\n",
    "LinearRegressionModel = LinearRegression()\n",
    "LinearRegressionModel.fit(X_train, y_train)\n",
    "print('Linear Regression Train Score is : ' , LinearRegressionModel.score(X_train, y_train))\n",
    "print('Linear Regression Test Score is : ' , LinearRegressionModel.score(X_test, y_test))\n",
    "print('Linear Regression Coef is : ' , LinearRegressionModel.coef_)\n",
    "print('Linear Regression intercept is : ' , LinearRegressionModel.intercept_)"
   ]
  },
  {
   "cell_type": "code",
   "execution_count": 78,
   "metadata": {
    "execution": {
     "iopub.execute_input": "2022-06-20T14:10:37.372125Z",
     "iopub.status.busy": "2022-06-20T14:10:37.371762Z",
     "iopub.status.idle": "2022-06-20T14:10:37.386282Z",
     "shell.execute_reply": "2022-06-20T14:10:37.384921Z",
     "shell.execute_reply.started": "2022-06-20T14:10:37.372097Z"
    }
   },
   "outputs": [],
   "source": [
    "y_pred_linear = LinearRegressionModel.predict(X_test)\n",
    "print('Y predict: ',y_pred_linear[:5])\n",
    "print('Y test: ', y_test[:5])"
   ]
  },
  {
   "cell_type": "code",
   "execution_count": 91,
   "metadata": {
    "execution": {
     "iopub.execute_input": "2022-06-20T14:21:50.927177Z",
     "iopub.status.busy": "2022-06-20T14:21:50.926737Z",
     "iopub.status.idle": "2022-06-20T14:21:50.953209Z",
     "shell.execute_reply": "2022-06-20T14:21:50.951846Z",
     "shell.execute_reply.started": "2022-06-20T14:21:50.927145Z"
    }
   },
   "outputs": [],
   "source": [
    "from sklearn.metrics import mean_squared_error\n",
    "//print('root square error is',LinearRegressionModel.score(X_test, y_test))\n",
    "predictions=LinearRegressionModel.predict(X_test)\n",
    "\n",
    "print('RMSE', mean_squared_error(y_test, predictions))\n",
    "\n",
    "\n"
   ]
  },
  {
   "cell_type": "code",
   "execution_count": 93,
   "metadata": {
    "execution": {
     "iopub.execute_input": "2022-06-20T14:26:26.829849Z",
     "iopub.status.busy": "2022-06-20T14:26:26.828969Z",
     "iopub.status.idle": "2022-06-20T14:26:27.034708Z",
     "shell.execute_reply": "2022-06-20T14:26:27.033440Z",
     "shell.execute_reply.started": "2022-06-20T14:26:26.829812Z"
    }
   },
   "outputs": [],
   "source": [
    "actual_values=y_test\n",
    "plt.scatter(predictions, actual_values,alpha=.7, color='b')\n",
    "plt.xlabel('Predicted Price')\n",
    "plt.ylabel('Actual Price')\n",
    "plt.title('Linear Regression Model')\n",
    "\n",
    "plt.show()\n",
    "\n",
    "\n",
    "\n"
   ]
  }
 ],
 "metadata": {
  "kernelspec": {
   "display_name": "Python 3 (ipykernel)",
   "language": "python",
   "name": "python3"
  },
  "language_info": {
   "codemirror_mode": {
    "name": "ipython",
    "version": 3
   },
   "file_extension": ".py",
   "mimetype": "text/x-python",
   "name": "python",
   "nbconvert_exporter": "python",
   "pygments_lexer": "ipython3",
   "version": "3.10.4"
  }
 },
 "nbformat": 4,
 "nbformat_minor": 4
}
